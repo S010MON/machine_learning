{
 "cells": [
  {
   "cell_type": "code",
   "execution_count": 180,
   "metadata": {},
   "outputs": [
    {
     "data": {
      "text/plain": [
       "[<matplotlib.lines.Line2D at 0x7fb16cc3b110>]"
      ]
     },
     "execution_count": 180,
     "metadata": {},
     "output_type": "execute_result"
    },
    {
     "data": {
      "image/png": "[encoded data removed]",
      "text/plain": [
       "<Figure size 432x288 with 1 Axes>"
      ]
     },
     "metadata": {
      "needs_background": "light"
     },
     "output_type": "display_data"
    }
   ],
   "source": [
    "from sigmoid import sigmoid\n",
    "from sigmoidGradient import sigmoidGradient as sd\n",
    "import matplotlib.pyplot as plt\n",
    "import numpy as np\n",
    "\n",
    "x = np.arange(-10, 10, 0.1)\n",
    "y = sigmoid(x)\n",
    "y_prime = sd(x)\n",
    "\n",
    "plt.plot(x,y)\n",
    "plt.plot(x, y_prime)\n"
   ]
  },
  {
   "cell_type": "code",
   "execution_count": 181,
   "metadata": {},
   "outputs": [
    {
     "name": "stdout",
     "output_type": "stream",
     "text": [
      "Loading and Visualizing Data ...\n"
     ]
    }
   ],
   "source": [
    "print('Loading and Visualizing Data ...')\n",
    "\n",
    "mat = scipy.io.loadmat('digitdata.mat')\n",
    "X = mat['X']\n",
    "y = mat['y']\n",
    "y = np.squeeze(y)\n",
    "m, _ = np.shape(X)\n",
    "\n",
    "# Randomly select 100 data points to display\n",
    "sel = np.random.choice(range(X.shape[0]), 100)\n",
    "sel = X[sel,:]\n"
   ]
  },
  {
   "cell_type": "code",
   "execution_count": 182,
   "metadata": {},
   "outputs": [],
   "source": [
    "import scipy.io\n",
    "\n",
    "# Load the weights into variables Theta1 and Theta2\n",
    "mat = scipy.io.loadmat('debugweights.mat');\n",
    "\n",
    "# Unroll parameters\n",
    "Theta1 = mat['Theta1']\n",
    "Theta1_1d = np.reshape(Theta1, Theta1.size, order='F')\n",
    "Theta2 = mat['Theta2']\n",
    "Theta2_1d = np.reshape(Theta2, Theta2.size, order='F')\n",
    "\n",
    "nn_params = np.hstack((Theta1_1d, Theta2_1d))"
   ]
  },
  {
   "cell_type": "code",
   "execution_count": 183,
   "metadata": {},
   "outputs": [
    {
     "name": "stdout",
     "output_type": "stream",
     "text": [
      "[[0. 0. 0. ... 0. 0. 0.]\n",
      " [0. 0. 0. ... 0. 0. 0.]\n",
      " [0. 0. 0. ... 0. 0. 0.]\n",
      " ...\n",
      " [0. 0. 0. ... 0. 0. 0.]\n",
      " [0. 0. 0. ... 0. 0. 0.]\n",
      " [0. 0. 0. ... 0. 0. 0.]]\n"
     ]
    }
   ],
   "source": [
    "print(X)"
   ]
  },
  {
   "cell_type": "code",
   "execution_count": 184,
   "metadata": {},
   "outputs": [
    {
     "name": "stdout",
     "output_type": "stream",
     "text": [
      "(5000, 400)\n",
      "(25, 401)\n",
      "(10, 26)\n"
     ]
    }
   ],
   "source": [
    "\n",
    "import numpy as np\n",
    "\n",
    "print(np.shape(X))\n",
    "print(np.shape(Theta1))\n",
    "print(np.shape(Theta2))\n"
   ]
  },
  {
   "cell_type": "code",
   "execution_count": 185,
   "metadata": {},
   "outputs": [
    {
     "name": "stdout",
     "output_type": "stream",
     "text": [
      "5000\n",
      "(5000, 400)\n",
      "(25, 401)\n",
      "(5000, 401)\n",
      "(25, 401)\n"
     ]
    }
   ],
   "source": [
    "m = np.shape(X)[0]\n",
    "ones = np.ones([5000,1])\n",
    "\n",
    "print(m)\n",
    "print(np.shape(X))\n",
    "print(np.shape(Theta1))\n",
    "\n",
    "X_prime = np.c_[ones, X]\n",
    "\n",
    "print(np.shape(X_prime))\n",
    "print(np.shape(Theta1))\n"
   ]
  },
  {
   "cell_type": "code",
   "execution_count": 186,
   "metadata": {},
   "outputs": [
    {
     "name": "stdout",
     "output_type": "stream",
     "text": [
      "(25,)\n",
      "[-4.81302157 -2.92257775  2.6445065   0.84862076 -1.07786496  5.6037835\n",
      " -1.87875993 -7.28728881  5.87517738 -4.42789819 -1.88126592 -4.08040186\n",
      " -3.78767782 -2.27465625 -5.83120172  2.68217055  5.90779391 -1.88126755\n",
      " -0.764938    1.3114137  -4.49649948  2.65153177  2.10497303  4.69948787\n",
      " -2.76096862]\n"
     ]
    }
   ],
   "source": [
    "z_1 = np.dot(Theta1, X_prime[1])\n",
    "print(np.shape(z_1))\n",
    "print(z_1)"
   ]
  },
  {
   "cell_type": "code",
   "execution_count": 187,
   "metadata": {},
   "outputs": [
    {
     "name": "stdout",
     "output_type": "stream",
     "text": [
      "(25,)\n",
      "(10, 26)\n",
      "[8.05782163e-03 5.10486829e-02 9.33671593e-01 7.00277736e-01\n",
      " 2.53910265e-01 9.96329622e-01 1.32531375e-01 6.83712699e-04\n",
      " 9.97199568e-01 1.17986869e-02 1.32243535e-01 1.66197870e-02\n",
      " 2.21465558e-02 9.32437832e-02 2.92596199e-03 9.35966335e-01\n",
      " 9.97289192e-01 1.32243348e-01 3.17575135e-01 7.87749623e-01\n",
      " 1.10250452e-02 9.34105338e-01 8.91385592e-01 9.90982126e-01\n",
      " 5.94701645e-02]\n"
     ]
    }
   ],
   "source": [
    "a_1 = sigmoid(z_1)\n",
    "print(np.shape(a_1))\n",
    "print(np.shape(Theta2))\n",
    "print(a_1)"
   ]
  },
  {
   "cell_type": "code",
   "execution_count": 188,
   "metadata": {},
   "outputs": [
    {
     "name": "stdout",
     "output_type": "stream",
     "text": [
      "(10,)\n",
      "[ -7.64327488  -6.02365485  -5.66663594 -10.1126475   -5.02416137\n",
      "  -6.34107747  -4.44692848  -6.03362019  -6.22762221   5.44411453]\n"
     ]
    }
   ],
   "source": [
    "a_1 = np.concatenate((np.array([1,]), a_1), axis=None)\n",
    "z_2 = np.dot(Theta2, a_1)\n",
    "print(np.shape(z_2))\n",
    "print(z_2)"
   ]
  },
  {
   "cell_type": "code",
   "execution_count": 189,
   "metadata": {},
   "outputs": [
    {
     "name": "stdout",
     "output_type": "stream",
     "text": [
      "[4.79026796e-04 2.41495958e-03 3.44755685e-03 4.05616281e-05\n",
      " 6.53412433e-03 1.75930169e-03 1.15788527e-02 2.39107046e-03\n",
      " 1.97025086e-03 9.95696931e-01]\n"
     ]
    }
   ],
   "source": [
    "a_2 = sigmoid(z_2)\n",
    "print(a_2)"
   ]
  },
  {
   "cell_type": "code",
   "execution_count": 190,
   "metadata": {},
   "outputs": [
    {
     "name": "stdout",
     "output_type": "stream",
     "text": [
      "4\n"
     ]
    }
   ],
   "source": [
    "def to_digit(x):\n",
    "    max = np.argmax(x)\n",
    "    return max+1\n",
    "\n",
    "a = np.array([0.9,0.1,0.2,100,0.3,0.4,0.7])\n",
    "print(to_digit(a))"
   ]
  },
  {
   "cell_type": "code",
   "execution_count": 191,
   "metadata": {},
   "outputs": [],
   "source": [
    "def softmax(x):\n",
    "    f_x = np.exp(x) / np.sum(np.exp(x))\n",
    "    return f_x"
   ]
  },
  {
   "cell_type": "code",
   "execution_count": 192,
   "metadata": {},
   "outputs": [
    {
     "name": "stdout",
     "output_type": "stream",
     "text": [
      "[0.08523908 0.08540425 0.08549249 0.08520171 0.08575677 0.08534828\n",
      " 0.08619049 0.08540221 0.08536628 0.23059845]\n"
     ]
    }
   ],
   "source": [
    "p = softmax(a_2)\n",
    "print(p)"
   ]
  },
  {
   "cell_type": "code",
   "execution_count": 193,
   "metadata": {},
   "outputs": [],
   "source": [
    "import numpy as np\n",
    "\n",
    "from sigmoid import sigmoid\n",
    "\n",
    "def predict(Theta1, Theta2, X):\n",
    "#PREDICT Predict the label of an input given a trained neural network\n",
    "#   p = PREDICT(Theta1, Theta2, X) outputs the predicted label of X given the\n",
    "#   trained weights of a neural network (Theta1, Theta2)\n",
    "\n",
    "# Useful values\n",
    "    m = np.shape(X)[0]              #number of examples\n",
    "\n",
    "# You need to return the following variables correctly \n",
    "    p = np.zeros(m);\n",
    "\n",
    "# ====================== YOUR CODE HERE ======================\n",
    "# Instructions: Complete the following code to make predictions using\n",
    "#               your learned neural network. You should set p to a \n",
    "#               vector containing labels between 1 to num_labels.\n",
    "#\n",
    "\n",
    "    print(m)\n",
    "    ones = np.ones([m,1])\n",
    "    print(np.shape(ones))\n",
    "    print(np.shape(X))\n",
    "    X = np.c_[ones,X]\n",
    "    print(np.shape(X))\n",
    "\n",
    "    for i in range(m):\n",
    "        z_1 = np.sum(np.dot(Theta1, X[i]))\n",
    "        a_1 = sigmoid(z_1)\n",
    "    \n",
    "        z_2 = np.sum(np.dot(Theta2, a_1))\n",
    "        a_2 = sigmoid(z_2)  \n",
    "     \n",
    "        p[i] = a_2\n",
    "\n",
    "        \n",
    "    p = np.floor(p * 20)\n",
    "    \n",
    "    return p\n",
    "\n",
    "# =========================================================================\n"
   ]
  },
  {
   "cell_type": "code",
   "execution_count": 194,
   "metadata": {},
   "outputs": [
    {
     "name": "stdout",
     "output_type": "stream",
     "text": [
      "5000\n",
      "(5000, 1)\n",
      "(5000, 400)\n",
      "(5000, 401)\n"
     ]
    }
   ],
   "source": [
    "pred = predict(Theta1, Theta2, X);"
   ]
  },
  {
   "cell_type": "code",
   "execution_count": 195,
   "metadata": {},
   "outputs": [
    {
     "data": {
      "text/plain": [
       "(array([2235.,   58.,   58.,   58.,   63.,   63.,   83.,   89.,  183.,\n",
       "        2110.]),\n",
       " array([ 0.,  1.,  2.,  3.,  4.,  5.,  6.,  7.,  8.,  9., 10.]),\n",
       " <a list of 10 Patch objects>)"
      ]
     },
     "execution_count": 195,
     "metadata": {},
     "output_type": "execute_result"
    },
    {
     "data": {
      "image/png": "[encoded data removed]",
      "text/plain": [
       "<Figure size 432x288 with 1 Axes>"
      ]
     },
     "metadata": {
      "needs_background": "light"
     },
     "output_type": "display_data"
    }
   ],
   "source": [
    "plt.hist(pred)"
   ]
  },
  {
   "cell_type": "code",
   "execution_count": 196,
   "metadata": {},
   "outputs": [
    {
     "data": {
      "text/plain": [
       "(array([2235.,   58.,   58.,   58.,   63.,   63.,   83.,   89.,  183.,\n",
       "        2110.]),\n",
       " array([ 0.,  1.,  2.,  3.,  4.,  5.,  6.,  7.,  8.,  9., 10.]),\n",
       " <a list of 10 Patch objects>)"
      ]
     },
     "execution_count": 196,
     "metadata": {},
     "output_type": "execute_result"
    },
    {
     "data": {
      "image/png": "[encoded data removed]",
      "text/plain": [
       "<Figure size 432x288 with 1 Axes>"
      ]
     },
     "metadata": {
      "needs_background": "light"
     },
     "output_type": "display_data"
    }
   ],
   "source": [
    "plt.hist(pred)"
   ]
  },
  {
   "cell_type": "code",
   "execution_count": null,
   "metadata": {},
   "outputs": [],
   "source": []
  }
 ],
 "metadata": {
  "kernelspec": {
   "display_name": "Python 3",
   "language": "python",
   "name": "python3"
  },
  "language_info": {
   "codemirror_mode": {
    "name": "ipython",
    "version": 3
   },
   "file_extension": ".py",
   "mimetype": "text/x-python",
   "name": "python",
   "nbconvert_exporter": "python",
   "pygments_lexer": "ipython3",
   "version": "3.7.6"
  }
 },
 "nbformat": 4,
 "nbformat_minor": 4
}
