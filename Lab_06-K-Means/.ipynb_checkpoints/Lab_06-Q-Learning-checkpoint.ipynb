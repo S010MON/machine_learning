{
 "cells": [
  {
   "cell_type": "code",
   "execution_count": 6,
   "metadata": {
    "scrolled": true
   },
   "outputs": [
    {
     "name": "stdout",
     "output_type": "stream",
     "text": [
      "Populating the interactive namespace from numpy and matplotlib\n"
     ]
    }
   ],
   "source": [
    "import numpy as np\n",
    "import matplotlib.pyplot as plt\n",
    "%pylab inline\n",
    "import random\n",
    "\n",
    "# parameters\n",
    "gridSize = 4\n",
    "states_terminal = [[0,0], [gridSize-1, gridSize-1]]\n",
    "valid_actions = [[-1, 0], [1, 0], [0, 1], [0, -1]]\n",
    "gamma = 0.1 # discount rate\n",
    "currentReward = -1\n",
    "numIterations = 100\n",
    "alpha = 0.1 #exploration factor\n",
    "\n",
    "# initialization\n",
    "Q = np.zeros((gridSize, gridSize))\n",
    "states = [[i, j] for i in range(gridSize) for j in range(gridSize)]"
   ]
  },
  {
   "cell_type": "code",
   "execution_count": 2,
   "metadata": {},
   "outputs": [],
   "source": [
    "def generateInitialState():\n",
    "    #generate a random initial state\n",
    "    randomIndex = np.random.randint(len(states))\n",
    "    initialState = states[randomIndex]\n",
    "    return initialState\n",
    "\n",
    "def generateNextAction():\n",
    "    #generate a random action from the valid set of actions\n",
    "    randomIndex = np.random.randint(len(valid_actions))\n",
    "    nextAction = valid_actions[randomIndex]\n",
    "    return nextAction\n",
    "\n",
    "# define the transition function from a given state and action\n",
    "def getNextState(state, action):\n",
    "    \n",
    "    #define what happens when reaching a terminal state\n",
    "    if checkTerminalState(state):\n",
    "        reward = 0\n",
    "        return reward, state\n",
    "\n",
    "    # here you should complete this step, the transition step\n",
    "    nextState = np.add(state, action)\n",
    "\n",
    "    # if the agent reaches a wall\n",
    "    if -1 in nextState or gridSize in nextState:\n",
    "        nextState = state\n",
    "    \n",
    "    return currentReward, nextState\n",
    "\n",
    "def checkTerminalState(currentState):\n",
    "    for state in states_terminal:\n",
    "        if state[0] == currentState[0] and state[1] == currentState[1]:\n",
    "            return True\n",
    "    return False"
   ]
  },
  {
   "cell_type": "code",
   "execution_count": null,
   "metadata": {},
   "outputs": [],
   "source": [
    "for it in range(numIterations):\n",
    "    currentState = generateInitialState()\n",
    "    \n",
    "    while True:\n",
    "        currentAction = generateNextAction()\n",
    "        reward, nextState = getNextState(currentState, currentAction)\n",
    "        \n",
    "        #complete the stop action if the agent reached the goal state\n",
    "        if reward == 0:\n",
    "break\n",
    "        \n",
    "        #update the Q-value function Q\n",
    "        \n",
    "        #assign as current state the next state\n",
    "        currentState = nextState"
   ]
  }
 ],
 "metadata": {
  "kernelspec": {
   "display_name": "Python 3 (ipykernel)",
   "language": "python",
   "name": "python3"
  },
  "language_info": {
   "codemirror_mode": {
    "name": "ipython",
    "version": 3
   },
   "file_extension": ".py",
   "mimetype": "text/x-python",
   "name": "python",
   "nbconvert_exporter": "python",
   "pygments_lexer": "ipython3",
   "version": "3.9.7"
  }
 },
 "nbformat": 4,
 "nbformat_minor": 4
}
