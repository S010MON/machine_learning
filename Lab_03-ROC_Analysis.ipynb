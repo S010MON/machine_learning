{
 "cells": [
  {
   "cell_type": "markdown",
   "metadata": {},
   "source": [
    "## 1. Introduction \n",
    " \n",
    "ROC  analysis  of  probabilistic  classifiers  is  important  topic  in  machine  learning.  It  is  used when we need to decide whether the posterior class probabilities that the classifiers assign to test instances allow us to separate correctly the instances according to their class labels.  In this lab you will implement a class ROC in Python that can be used for ROC analysis for two  class  problems  (e.g.  problems  with  positive  and  negative  classes).  Description  of  the application program interface of this class is provided in the next section.   "
   ]
  },
  {
   "cell_type": "markdown",
   "metadata": {},
   "source": [
    "## 2. Lab Tasks \n",
    "We  need  to  implement  the  lab  tasks  related  to  class  ROC  in  the  following  context.  A probabilistic classifer $h$ has been first trained on some labeled training data and then tested on  a  test  set  of  labeled  test  instances.  For  each  test  instance  $x$  classifier  $h$  has  outputted posterior probability of the positive class and posterior probability of the negative class. The class probabilities of the test instances are saved in a `pandas.DataFrame` object `Probs` and the true class labels of the test instances are saved in a `pandas.DataFrame` object `TrueClass`. The correspondence between object `Probs` and object `TrueClass` is index-based: the positive-class probability of the $i^{th}$ instance $x$ is the $i^{th}$ element of $P$ and the true-class label of the $i^{th}$ instance is the $i^{th}$ element of `TrueClass`. "
   ]
  },
  {
   "cell_type": "markdown",
   "metadata": {},
   "source": [
    "In the context we have just described, supply class ROC with the following methods:"
   ]
  },
  {
   "cell_type": "markdown",
   "metadata": {},
   "source": [
    "### A.  \n",
    "Parametric constructor ROC that can accept two input parameters: \n",
    "    \n",
    "> a. object Probs that contains the estimated probabilities of the test instances for the positive class, and \n",
    "\n",
    "> b. object TrueClass that contains the true class of the test instances. Note that Probs and  TrueClass have to be saved in instance fields of ROC objects to allow operation of other methods in ROC. "
   ]
  },
  {
   "cell_type": "markdown",
   "metadata": {},
   "source": [
    "### B.  \n",
    "Method compute_ROC_coordinates that computes the TPr and FPr coordinates of the ROC curve from the positive class probabilities and true classes of the test instances (see Appendix A for pseudocode).  One of the main problems when implementing method compute_ROC_coordinates  is  to  decide  how  to  handle  test  instances  of opposite  classes  that  have  the  same  probability  for  the  positive  class.  Propose  one strategy and implement this strategy in method compute_ROC_coordinates."
   ]
  },
  {
   "cell_type": "markdown",
   "metadata": {},
   "source": [
    "### C.\n",
    "Method plot_ROC that plots the ROC curve (the method assumes that we first run \n",
    "method compute_ROC_coordinates).  "
   ]
  },
  {
   "cell_type": "markdown",
   "metadata": {},
   "source": [
    "### D.  \n",
    "Method compute_AUCROC that computes the area under curve (AUC) of the ROC \n",
    "curve from the positive-class probabilities and true classes  of the test instances (for \n",
    "the  sake  of  computational  efficiency,  the  method  assumes  that  we  first  run  method \n",
    "compute_ROC_coordinates).  "
   ]
  },
  {
   "cell_type": "markdown",
   "metadata": {},
   "source": [
    "### E. \n",
    "Provide code to test all the methods of class ROC with a probabilistic classifier from \n",
    "sklearn or the kNN classifier from Lab 2. The data set is the diabetes data set. "
   ]
  },
  {
   "cell_type": "markdown",
   "metadata": {},
   "source": [
    "### F. (nongraded) \n",
    "Method compute_ROC_convex_hull_coordinates that computes the TPr and FPr coordinates of the ROC convex hull curve from the positive-class probabilities and true classes of the test instances. "
   ]
  },
  {
   "cell_type": "markdown",
   "metadata": {},
   "source": [
    "Report: Prepare a pdf file of the Jupiter notebook with your code for class ROC that contains \n",
    "methods specified in A, B, C, D, and E.  In the markdown for B state your strategy to handle test \n",
    "instances of opposite classes that have the same probability for the positive class. "
   ]
  },
  {
   "cell_type": "code",
   "execution_count": null,
   "metadata": {},
   "outputs": [],
   "source": []
  }
 ],
 "metadata": {
  "kernelspec": {
   "display_name": "Python 3",
   "language": "python",
   "name": "python3"
  },
  "language_info": {
   "codemirror_mode": {
    "name": "ipython",
    "version": 3
   },
   "file_extension": ".py",
   "mimetype": "text/x-python",
   "name": "python",
   "nbconvert_exporter": "python",
   "pygments_lexer": "ipython3",
   "version": "3.7.6"
  }
 },
 "nbformat": 4,
 "nbformat_minor": 4
}
