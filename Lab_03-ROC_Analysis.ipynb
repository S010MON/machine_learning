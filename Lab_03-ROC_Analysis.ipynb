{
 "cells": [
  {
   "cell_type": "markdown",
   "metadata": {},
   "source": [
    "# Lab 3 - Reciever Operating Characteristics\n",
    "\n",
    "6252320 - Leon Debnath"
   ]
  },
  {
   "cell_type": "markdown",
   "metadata": {},
   "source": [
    "## 1. Introduction \n",
    " \n",
    "ROC  analysis  of  probabilistic  classifiers  is  important  topic  in  machine  learning.  It  is  used when we need to decide whether the posterior class probabilities that the classifiers assign to test instances allow us to separate correctly the instances according to their class labels.  In this lab you will implement a class ROC in Python that can be used for ROC analysis for two  class  problems  (e.g.  problems  with  positive  and  negative  classes).  Description  of  the application program interface of this class is provided in the next section.   "
   ]
  },
  {
   "cell_type": "markdown",
   "metadata": {},
   "source": [
    "## 2. Lab Tasks \n",
    "We  need  to  implement  the  lab  tasks  related  to  class  ROC  in  the  following  context.  A probabilistic classifer $h$ has been first trained on some labeled training data and then tested on  a  test  set  of  labeled  test  instances.  For  each  test  instance  $x$  classifier  $h$  has  outputted posterior probability of the positive class and posterior probability of the negative class. The class probabilities of the test instances are saved in a `pandas.DataFrame` object `Probs` and the true class labels of the test instances are saved in a `pandas.DataFrame` object `TrueClass`. The correspondence between object `Probs` and object `TrueClass` is index-based: the positive-class probability of the $i^{th}$ instance $x$ is the $i^{th}$ element of $P$ and the true-class label of the $i^{th}$ instance is the $i^{th}$ element of `TrueClass`. "
   ]
  },
  {
   "cell_type": "markdown",
   "metadata": {},
   "source": [
    "In the context we have just described, supply class ROC with the following methods:"
   ]
  },
  {
   "cell_type": "code",
   "execution_count": 145,
   "metadata": {},
   "outputs": [],
   "source": [
    "import random\n",
    "import pandas as pd\n",
    "import matplotlib.pyplot as plt\n",
    "import numpy as np\n",
    "from numpy.random import normal\n"
   ]
  },
  {
   "cell_type": "code",
   "execution_count": 146,
   "metadata": {},
   "outputs": [],
   "source": [
    "class ROC:\n",
    "    \n",
    "    #######\n",
    "    #  A.  \n",
    "    #######\n",
    "    # Parametric constructor ROC that can accept two input parameters:\n",
    "    #\n",
    "    #     a. object Probs that contains the estimated probabilities of\n",
    "    #        the test instances for the positive class, and \n",
    "    #\n",
    "    #     b. object TrueClass that contains the true class of the test\n",
    "    #        instances. Note that Probs and  TrueClass have to be saved\n",
    "    #        in instance fields of ROC objects to allow operation of \n",
    "    #        other methods in ROC. \n",
    "    \n",
    "    def __init__(self, probs, true_class):\n",
    "        self.probs = probs\n",
    "        self.true_class = true_class\n",
    "        self.data = pd.DataFrame({'pos': probs['pos'],\n",
    "                                  'neg': probs['neg'],\n",
    "                                  'class': true_class['true']})\n",
    "        self.coords = []\n",
    "\n",
    "        \n",
    "    #######\n",
    "    #  B.\n",
    "    #######\n",
    "    # Method compute_ROC_coordinates that computes the TPr and FPr coordinates\n",
    "    # of the ROC curve from the positive class probabilities and true classes\n",
    "    # of the test instances (see Appendix A for pseudocode).  One of the main\n",
    "    # problems when implementing method compute_ROC_coordinates  is  to  decide\n",
    "    # how  to  handle  test  instances  of opposite  classes  that  have  the\n",
    "    # same  probability  for  the  positive  class.  Propose  one strategy and\n",
    "    # implement this strategy in method compute_ROC_coordinates.\n",
    "        \n",
    "    def compute_coordinates(self):       \n",
    "        fp = 0\n",
    "        tp = 0\n",
    "        p = true_class['true'].value_counts()[1]\n",
    "        n = true_class['true'].value_counts()[0]\n",
    "        \n",
    "        coords = self.coords\n",
    "        prev_prob = -np.inf\n",
    "        \n",
    "        # Sort probabilities by positive instance in decreasing order\n",
    "        data = self.data.sort_values('pos', axis=0, ascending=False)\n",
    "             \n",
    "        for i in range(len(data)):\n",
    "            if data.loc[i,'pos'] != prev_prob:\n",
    "                coords.append(((fp/n), (tp/p)))\n",
    "                prev_prob = data.loc[i,'pos']\n",
    "            \n",
    "            if data.loc[i,'class'] == 1:\n",
    "                tp += 1\n",
    "            else:\n",
    "                fp += 1\n",
    "        \n",
    "        self.coords = coords\n",
    "        return coords\n",
    "    \n",
    "    \n",
    "    #######\n",
    "    #  C.\n",
    "    #######\n",
    "    # Method plot_ROC that plots the ROC curve\n",
    "    \n",
    "    def plot(self):\n",
    "        \n",
    "        if len(coords) == 0:\n",
    "            compute_coordinates()\n",
    "        plt.plot(coords)\n",
    "    \n",
    "    \n",
    "    #######\n",
    "    #  D.\n",
    "    #######\n",
    "    # Method compute_AUCROC that computes the area under curve (AUC) \n",
    "    # of the ROC curve from the positive-class probabilities and \n",
    "    # true classes  of the test instances (for the  sake  of  \n",
    "    # computational  efficiency,  the  method  assumes  that  we  first\n",
    "    # run  method compute_ROC_coordinates).\n",
    "    \n",
    "    def AUC(self):\n",
    "        pass"
   ]
  },
  {
   "cell_type": "markdown",
   "metadata": {},
   "source": [
    "Report: Prepare a pdf file of the Jupiter notebook with your code for class ROC that contains \n",
    "methods specified in A, B, C, D, and E.  In the markdown for B state your strategy to handle test \n",
    "instances of opposite classes that have the same probability for the positive class. "
   ]
  },
  {
   "cell_type": "code",
   "execution_count": 149,
   "metadata": {},
   "outputs": [
    {
     "data": {
      "image/png": "[encoded data removed]",
      "text/plain": [
       "<Figure size 432x288 with 1 Axes>"
      ]
     },
     "metadata": {
      "needs_background": "light"
     },
     "output_type": "display_data"
    },
    {
     "data": {
      "image/png": "[encoded data removed]",
      "text/plain": [
       "<Figure size 432x288 with 1 Axes>"
      ]
     },
     "metadata": {
      "needs_background": "light"
     },
     "output_type": "display_data"
    }
   ],
   "source": [
    "########\n",
    "# Part E \n",
    "########\n",
    "# Provide code to test all the methods of class ROC with a probabilistic classifier from \n",
    "# sklearn or the kNN classifier from Lab 2. The data set is the diabetes data set. \n",
    "\n",
    "\n",
    "# Create a random data set to build \n",
    "probs = pd.DataFrame({'pos': normal(loc=0.6, scale=0.1, size=100),\n",
    "                      'neg': normal(loc=0.4, scale=0.1, size=100)})\n",
    "true_class = pd.DataFrame({'true': [random.randint(0,1) for i in range(100)]})\n",
    "\n",
    "plt.figure(1)\n",
    "plt.scatter(probs['pos'], probs['neg'])\n",
    "\n",
    "roc = ROC(probs, true_class)\n",
    "plt.figure(2)\n",
    "roc.plot()\n"
   ]
  },
  {
   "cell_type": "markdown",
   "metadata": {},
   "source": [
    "### F. (nongraded) \n",
    "Method compute_ROC_convex_hull_coordinates that computes the TPr and FPr coordinates of the ROC convex hull curve from the positive-class probabilities and true classes of the test instances. "
   ]
  },
  {
   "cell_type": "code",
   "execution_count": null,
   "metadata": {},
   "outputs": [],
   "source": []
  }
 ],
 "metadata": {
  "kernelspec": {
   "display_name": "Python 3 (ipykernel)",
   "language": "python",
   "name": "python3"
  },
  "language_info": {
   "codemirror_mode": {
    "name": "ipython",
    "version": 3
   },
   "file_extension": ".py",
   "mimetype": "text/x-python",
   "name": "python",
   "nbconvert_exporter": "python",
   "pygments_lexer": "ipython3",
   "version": "3.8.8"
  }
 },
 "nbformat": 4,
 "nbformat_minor": 4
}
