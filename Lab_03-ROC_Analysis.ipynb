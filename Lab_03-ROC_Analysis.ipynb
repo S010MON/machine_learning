{
 "cells": [
  {
   "cell_type": "markdown",
   "metadata": {},
   "source": [
    "# Lab 3 - Reciever Operating Characteristics\n",
    "\n",
    "6252320 - Leon Debnath"
   ]
  },
  {
   "cell_type": "markdown",
   "metadata": {},
   "source": [
    "## 1. Introduction \n",
    " \n",
    "ROC  analysis  of  probabilistic  classifiers  is  important  topic  in  machine  learning.  It  is  used when we need to decide whether the posterior class probabilities that the classifiers assign to test instances allow us to separate correctly the instances according to their class labels.  In this lab you will implement a class ROC in Python that can be used for ROC analysis for two  class  problems  (e.g.  problems  with  positive  and  negative  classes).  Description  of  the application program interface of this class is provided in the next section.   "
   ]
  },
  {
   "cell_type": "markdown",
   "metadata": {},
   "source": [
    "## 2. Lab Tasks \n",
    "We  need  to  implement  the  lab  tasks  related  to  class  ROC  in  the  following  context.  A probabilistic classifer $h$ has been first trained on some labeled training data and then tested on  a  test  set  of  labeled  test  instances.  For  each  test  instance  $x$  classifier  $h$  has  outputted posterior probability of the positive class and posterior probability of the negative class. The class probabilities of the test instances are saved in a `pandas.DataFrame` object `Probs` and the true class labels of the test instances are saved in a `pandas.DataFrame` object `TrueClass`. The correspondence between object `Probs` and object `TrueClass` is index-based: the positive-class probability of the $i^{th}$ instance $x$ is the $i^{th}$ element of $P$ and the true-class label of the $i^{th}$ instance is the $i^{th}$ element of `TrueClass`. "
   ]
  },
  {
   "cell_type": "markdown",
   "metadata": {},
   "source": [
    "In the context we have just described, supply class ROC with the following methods:"
   ]
  },
  {
   "cell_type": "code",
   "execution_count": 1,
   "metadata": {},
   "outputs": [],
   "source": [
    "import random\n",
    "import pandas as pd\n",
    "import matplotlib.pyplot as plt\n",
    "import numpy as np\n",
    "from numpy.random import normal\n",
    "import scipy.integrate as integrate\n"
   ]
  },
  {
   "cell_type": "code",
   "execution_count": 87,
   "metadata": {},
   "outputs": [],
   "source": [
    "class ROC:\n",
    "    \n",
    "    #######\n",
    "    #  A.  \n",
    "    #######\n",
    "    # Parametric constructor ROC that can accept two input parameters:\n",
    "    #\n",
    "    #     a. object Probs that contains the estimated probabilities of\n",
    "    #        the test instances for the positive class, and \n",
    "    #\n",
    "    #     b. object TrueClass that contains the true class of the test\n",
    "    #        instances. Note that Probs and  TrueClass have to be saved\n",
    "    #        in instance fields of ROC objects to allow operation of \n",
    "    #        other methods in ROC. \n",
    "    \n",
    "    def __init__(self, probs, true_class):\n",
    "        self.probs = probs\n",
    "        self.true_class = true_class\n",
    "        self.data = pd.DataFrame({'pos': probs['pos'],\n",
    "                                  'neg': probs['neg'],\n",
    "                                  'class': true_class['class']})\n",
    "        self.coords = None\n",
    "        self.coords_avg = None\n",
    "        self.stored = False\n",
    "        self.ave_x = 0\n",
    "        self.ave_y = 0\n",
    "\n",
    "\n",
    "    #######\n",
    "    #  B.\n",
    "    #######\n",
    "    # Method compute_ROC_coordinates that computes the TPr and FPr coordinates\n",
    "    # of the ROC curve from the positive class probabilities and true classes\n",
    "    # of the test instances (see Appendix A for pseudocode).  One of the main\n",
    "    # problems when implementing method compute_ROC_coordinates  is  to  decide\n",
    "    # how  to  handle  test  instances  of opposite  classes  that  have  the\n",
    "    # same  probability  for  the  positive  class.  Propose  one strategy and\n",
    "    # implement this strategy in method compute_ROC_coordinates.\n",
    "        \n",
    "    def compute_coordinates(self):       \n",
    "        fp = 0\n",
    "        tp = 0\n",
    "        p = true_class['class'].value_counts()[1]\n",
    "        n = true_class['class'].value_counts()[0]\n",
    "        \n",
    "        X = []\n",
    "        Y = []\n",
    "        prob_prev = -np.inf\n",
    "        \n",
    "        # Sort probabilities by positive instance in decreasing order\n",
    "        data = self.data.sort_values('pos', axis=0, ascending=False)\n",
    "             \n",
    "        for i in range(len(data)):               \n",
    "            if data.loc[i,'pos'] != prob_prev:\n",
    "                X.append(fp/n)\n",
    "                Y.append(tp/p)\n",
    "                prob_prev = data.loc[i,'pos']\n",
    "            \n",
    "                if data.loc[i,'class'] == 1:\n",
    "                    tp += 1\n",
    "                else:\n",
    "                    fp += 1\n",
    "        \n",
    "        self.coords = pd.DataFrame({'x': X, 'y': Y})\n",
    "        return self.coords\n",
    "    \n",
    "    \n",
    "    def compute_coordinates_avg(self):       \n",
    "        fp = 0\n",
    "        tp = 0\n",
    "        p = true_class['class'].value_counts()[1]\n",
    "        n = true_class['class'].value_counts()[0]\n",
    "        \n",
    "        X = []\n",
    "        Y = []\n",
    "        prob_prev = -np.inf\n",
    "        \n",
    "        # Sort probabilities by positive instance in decreasing order\n",
    "        data = self.data.sort_values('pos', axis=0, ascending=False)\n",
    "        \n",
    "        for i in range(len(data)):               \n",
    "            \n",
    "            if data.loc[i,'pos'] == prob_prev:\n",
    "                self.store_point(fp/n, tp/p)\n",
    "            \n",
    "            elif data.loc[i,'pos'] != prob_prev:\n",
    "                if self.stored:\n",
    "                    x, y = self.retrieve_ave()\n",
    "                    X.append(x)\n",
    "                    Y.append(y)\n",
    "            \n",
    "                X.append(fp/n)\n",
    "                Y.append(tp/p)\n",
    "            \n",
    "            if data.loc[i,'class'] == 1:\n",
    "                tp += 1\n",
    "            else:\n",
    "                fp += 1\n",
    "            \n",
    "            prob_prev = data.loc[i,'pos']\n",
    "        \n",
    "        self.coords_avg = pd.DataFrame({'x': X, 'y': Y})\n",
    "        return self.coords_avg\n",
    "    \n",
    "    def store_point(self, x, y):\n",
    "        if x > self.ave_x: \n",
    "            self.ave_x = x\n",
    "        if y > self.ave_y: \n",
    "            self.ave_y = y\n",
    "        self.stored = True\n",
    "    \n",
    "    def retrieve_ave(self):\n",
    "        x = self.ave_x\n",
    "        y = self.ave_y\n",
    "        self.ave_x = 0\n",
    "        self.ave_y = 0\n",
    "        self.stored = False\n",
    "        return x, y\n",
    "        \n",
    "    #######\n",
    "    #  C.\n",
    "    #######\n",
    "    # Method plot_ROC that plots the ROC curve\n",
    "    \n",
    "    def plot(self):\n",
    "        if self.coords is None:\n",
    "            self.compute_coordinates()\n",
    "        plt.plot(self.coords['x'], self.coords['y'])\n",
    "        \n",
    "    \n",
    "    def plot_avg(self):\n",
    "        if self.coords_avg is None:\n",
    "            self.compute_coordinates_avg()\n",
    "        plt.plot(self.coords_avg['x'], self.coords_avg['y'])\n",
    "    \n",
    "    \n",
    "    #######\n",
    "    #  D.\n",
    "    #######\n",
    "    # Method compute_AUCROC that computes the area under curve (AUC) \n",
    "    # of the ROC curve from the positive-class probabilities and \n",
    "    # true classes  of the test instances (for the  sake  of  \n",
    "    # computational  efficiency,  the  method  assumes  that  we  first\n",
    "    # run  method compute_ROC_coordinates).\n",
    "    \n",
    "    def AUC(self):\n",
    "        X = self.coords['x']\n",
    "        Y = self.coords['y']\n",
    "        area = integrate.trapz(X, Y)\n",
    "        return area\n",
    "    \n",
    "    def AUC_avg(self):\n",
    "        X = self.coords_avg['x']\n",
    "        Y = self.coords_avg['y']\n",
    "        area = integrate.trapz(X, Y)\n",
    "        return area"
   ]
  },
  {
   "cell_type": "markdown",
   "metadata": {},
   "source": [
    "## Part B\n",
    "To resolve conflicts where $P(pos) = P(neg)$ in the pseudocode the last probability recorded is stored and if the $i^th$ probability is not the same the threshold will be increased. This causes an issue as the sorting of positive and negative classes of the same values are not necessarily in any order such that three instances each with $P(pos) = 0.7$ could be ordered in $3^3$ different ways, with some orderings being 'optimistic; i.e. ${1, 1, 0}$ and others 'pessimistic': ${0,1,1}$\n",
    "\n",
    "The alternative is to calculate the average of the optimistic and pessimistic elements and not outputting a ROC point until all have been taken into account.  This should provider a smoother curve with few concavities.\n",
    "[T.Fawcett 2003](https://www.hpl.hp.com/techreports/2003/HPL-2003-4.pdf). \n",
    "\n",
    "The `compute_coords_avg` and `plot_avg` methods use this averaging technique to plot the ROC curves ad show a smoother curve in part E"
   ]
  },
  {
   "cell_type": "code",
   "execution_count": 92,
   "metadata": {},
   "outputs": [
    {
     "name": "stdout",
     "output_type": "stream",
     "text": [
      "Area under curve: 0.5184294871794872\n",
      "Area under curve: 0.5184294871794872\n"
     ]
    },
    {
     "data": {
      "image/png": "[encoded data removed]",
      "text/plain": [
       "<Figure size 432x288 with 1 Axes>"
      ]
     },
     "metadata": {
      "needs_background": "light"
     },
     "output_type": "display_data"
    },
    {
     "data": {
      "image/png": "[encoded data removed]",
      "text/plain": [
       "<Figure size 432x288 with 1 Axes>"
      ]
     },
     "metadata": {
      "needs_background": "light"
     },
     "output_type": "display_data"
    },
    {
     "data": {
      "image/png": "[encoded data removed]",
      "text/plain": [
       "<Figure size 432x288 with 1 Axes>"
      ]
     },
     "metadata": {
      "needs_background": "light"
     },
     "output_type": "display_data"
    }
   ],
   "source": [
    "# Create a random data set to test while building \n",
    "probs = pd.DataFrame({'pos': normal(loc=0.6, scale=0.1, size=100),\n",
    "                      'neg': normal(loc=0.4, scale=0.1, size=100)})\n",
    "true_class = pd.DataFrame({'class': [random.randint(0,1) for i in range(100)]})\n",
    "\n",
    "plt.figure(1)\n",
    "plt.scatter(probs['pos'], probs['neg'])\n",
    "\n",
    "roc = ROC(probs, true_class)\n",
    "\n",
    "plt.figure(2)\n",
    "roc.plot()\n",
    "print(str.format('Area under curve: {0}', roc.AUC()))\n",
    "\n",
    "plt.figure(3)\n",
    "roc.plot_avg()\n",
    "print(str.format('Area under curve: {0}', roc.AUC_avg()))\n",
    "\n",
    "# Note that the two plots are identical as the random values rarely seem to \n",
    "# have identical values"
   ]
  },
  {
   "cell_type": "code",
   "execution_count": 82,
   "metadata": {},
   "outputs": [],
   "source": [
    "########\n",
    "# Part E \n",
    "########\n",
    "# Provide code to test all the methods of class ROC with a probabilistic classifier from \n",
    "# sklearn or the kNN classifier from Lab 2. The data set is the diabetes data set. \n",
    "\n",
    "from sklearn.model_selection import train_test_split\n",
    "\n",
    "data = pd.read_csv('diabetes.csv')\n",
    "data.head()\n",
    "Y = data['class']\n",
    "X = data.drop(['class'],axis=1)\n",
    "X_train, X_test, Y_train, Y_test = train_test_split(X, Y, test_size=0.34, random_state=33)\n",
    "\n",
    "# Create a set of true classes for the current dataset\n",
    "true_class = []\n",
    "for instance in Y_test:\n",
    "    if instance == 'tested_positive':\n",
    "        true_class.append(1)\n",
    "    else:\n",
    "        true_class.append(0)\n",
    "true_class = pd.DataFrame({'class': true_class})    \n"
   ]
  },
  {
   "cell_type": "code",
   "execution_count": 83,
   "metadata": {},
   "outputs": [
    {
     "name": "stdout",
     "output_type": "stream",
     "text": [
      "Area under curve: 0.2480932871099905\n",
      "Area under curve: 0.47065868263473043\n"
     ]
    },
    {
     "data": {
      "image/png": "[encoded data removed]",
      "text/plain": [
       "<Figure size 432x288 with 1 Axes>"
      ]
     },
     "metadata": {
      "needs_background": "light"
     },
     "output_type": "display_data"
    },
    {
     "data": {
      "image/png": "[encoded data removed]",
      "text/plain": [
       "<Figure size 432x288 with 1 Axes>"
      ]
     },
     "metadata": {
      "needs_background": "light"
     },
     "output_type": "display_data"
    }
   ],
   "source": [
    "from sklearn.neighbors import KNeighborsClassifier\n",
    "\n",
    "classifier = KNeighborsClassifier(n_neighbors=3)\n",
    "classifier.fit(X_train, Y_train)\n",
    "probs = classifier.predict_proba(X_test).T\n",
    "probs = pd.DataFrame({'pos': probs[0],\n",
    "                      'neg': probs[1]})\n",
    "roc = ROC(probs, true_class)\n",
    "roc.compute_coordinates()\n",
    "\n",
    "plt.figure(1)\n",
    "roc.plot()\n",
    "print(str.format('Area under curve: {0}', roc.AUC()))\n",
    "\n",
    "plt.figure(2)\n",
    "roc.plot_avg()\n",
    "print(str.format('Area under curve: {0}', roc.AUC_avg()))"
   ]
  },
  {
   "cell_type": "code",
   "execution_count": null,
   "metadata": {},
   "outputs": [],
   "source": []
  }
 ],
 "metadata": {
  "kernelspec": {
   "display_name": "Python 3 (ipykernel)",
   "language": "python",
   "name": "python3"
  },
  "language_info": {
   "codemirror_mode": {
    "name": "ipython",
    "version": 3
   },
   "file_extension": ".py",
   "mimetype": "text/x-python",
   "name": "python",
   "nbconvert_exporter": "python",
   "pygments_lexer": "ipython3",
   "version": "3.8.8"
  }
 },
 "nbformat": 4,
 "nbformat_minor": 4
}
