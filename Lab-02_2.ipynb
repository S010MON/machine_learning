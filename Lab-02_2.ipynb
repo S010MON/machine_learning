{
 "cells": [
  {
   "cell_type": "markdown",
   "metadata": {},
   "source": [
    "# Lab 2: Nearest Neighbour\n",
    "\n",
    "6252320 Leon Debnath"
   ]
  },
  {
   "cell_type": "code",
   "execution_count": 12,
   "metadata": {},
   "outputs": [],
   "source": [
    "import numpy as np\n",
    "import pandas as pd\n",
    "import matplotlib.pyplot as plt\n",
    "\n",
    "from numpy.random import random\n",
    "from sklearn.metrics import accuracy_score\n",
    "from sklearn.model_selection import train_test_split\n",
    "from sklearn.preprocessing import StandardScaler"
   ]
  },
  {
   "cell_type": "code",
   "execution_count": 17,
   "metadata": {},
   "outputs": [],
   "source": [
    "# Class of k-Nearest Neigbor Classifier\n",
    "\n",
    "\n",
    "class kNN():\n",
    "    def __init__(self, k = 3, exp = 2, normalise=False):\n",
    "    # constructor for kNN classifier \n",
    "    # k is the number of neighbor for local class estimation\n",
    "    # exp is the exponent for the Minkowski distance\n",
    "        self.k = k\n",
    "        self.exp = exp\n",
    "        self.normalise = normalise\n",
    "      \n",
    "    def fit(self, X_train, Y_train):\n",
    "    # training k-NN method\n",
    "    # X_train is the training data given with input attributes. n-th row correponds to n-th instance.\n",
    "    # Y_train is the output data (output vector): n-th element of Y_train is the output value for n-th instance in X_train.\n",
    "        if self.normalise:\n",
    "            self.X_train = self.normalise_data(X_train)\n",
    "        else:\n",
    "            self.X_train = X_train\n",
    "        self.Y_train = Y_train   \n",
    "         \n",
    "    def getDiscreteClassification(self, X_test):\n",
    "    # predict-class k-NN method\n",
    "    # X_test is the test data given with input attributes. Rows correpond to instances\n",
    "    # Method outputs prediction vector Y_pred_test:  n-th element of Y_pred_test is the prediction for n-th instance in X_test\n",
    "        \n",
    "        if self.normalise:\n",
    "            X_test = self.normalise_data(X_test)\n",
    "            \n",
    "        Y_pred_test = [] #prediction vector Y_pred_test for all the test instances in X_test is initialized to empty list []\n",
    "\n",
    "   \n",
    "        for i in range(len(X_test)):   #iterate over all instances in X_test\n",
    "            test_instance = X_test.iloc[i] #i-th test instance \n",
    "            \n",
    "            distances = []  #list of distances of the i-th test_instance for all the train_instance s in X_train, initially empty.\n",
    "          \n",
    "            for j in range(len(self.X_train)):  #iterate over all instances in X_train\n",
    "                train_instance = self.X_train.iloc[j] #j-th training instance \n",
    "                distance = self.Minkowski_distance(test_instance, train_instance) #distance between i-th test instance and j-th training instance  \n",
    "                distances.append(distance) #add the distance to the list of distances of the i-th test_instance\n",
    "        \n",
    "            # Store distances in a dataframe. The dataframe has the index of Y_train in order to keep the correspondence with the classes of the training instances \n",
    "            df_dists = pd.DataFrame(data=distances, columns=['dist'], index = self.Y_train.index)\n",
    "        \n",
    "            # Sort distances, and only consider the k closest points in the new dataframe df_knn\n",
    "            df_nn = df_dists.sort_values(by=['dist'], axis=0)\n",
    "            df_knn =  df_nn[:self.k]\n",
    "            \n",
    "            # Note that the index df_knn.index of df_knn contains indices in Y_train of the k-closed training instances to \n",
    "            # the i-th test instance. Thus, the dataframe self.Y_train[df_knn.index] contains the classes of those k-closed \n",
    "            # training instances. Method value_counts() computes the counts (number of occurencies) for each class in \n",
    "            # self.Y_train[df_knn.index] in dataframe predictions. \n",
    "            predictions = self.Y_train[df_knn.index].value_counts()\n",
    "                 \n",
    "            # the first element of the index predictions.index contains the class with the highest count; i.e. the prediction y_pred_test.\n",
    "            y_pred_test = predictions.index[0]\n",
    "\n",
    "            # add the prediction y_pred_test to the prediction vector Y_pred_test for all the test instances in X_test\n",
    "            Y_pred_test.append(y_pred_test)\n",
    "        \n",
    "        return Y_pred_test\n",
    "\n",
    "    \n",
    "    def Minkowski_distance(self, x1, x2):\n",
    "    # computes the Minkowski distance of x1 and x2 for two labeled instances (x1,y1) and (x2,y2)\n",
    "    \n",
    "        # Set initial distance to 0\n",
    "        distance = 0\n",
    "    \n",
    "        # Calculate Minkowski distance using the exponent exp\n",
    "        for i in range(len(x1)):\n",
    "            distance = distance + abs(x1[i] - x2[i])**self.exp\n",
    "        \n",
    "        distance = distance**(1/self.exp)\n",
    "    \n",
    "        return distance\n",
    "\n",
    "    \n",
    "    #########\n",
    "    # PART B\n",
    "    #########\n",
    "    def normalise_data(self, X) -> pd.DataFrame:\n",
    "        ''' \n",
    "        NB:  this has been put INSIDE the class becuase that is what is \n",
    "        specified in the lab spec. I believe his would probably provide\n",
    "        more accurate results if the entire dataset was normalised outside\n",
    "        of the class and then split into a train/test split. \n",
    "        '''\n",
    "        scaler = StandardScaler()\n",
    "        X_scaled = scaler.fit_transform(X)\n",
    "        return pd.DataFrame(X_scaled)\n",
    "    \n",
    "    \n",
    "    #########\n",
    "    # PART C\n",
    "    #########\n",
    "    def get_class_probs(self, X_test) -> pd.DataFrame:\n",
    "        \n",
    "        class_probs, columns = self.create_probs(X_test)\n",
    "        \n",
    "        for i in range(len(X_test)):\n",
    "            test_instance = X_test.iloc[i]\n",
    "            distances = []\n",
    "    \n",
    "            for j in range(len(self.X_train)):\n",
    "                train_instance = self.X_train.iloc[j]\n",
    "                distance = self.Minkowski_distance(test_instance, \n",
    "                                                   train_instance)  \n",
    "                distances.append(distance)\n",
    "            \n",
    "            df_dists = pd.DataFrame(data=distances,\n",
    "                                    columns=['dist'],\n",
    "                                    index = self.Y_train.index)\n",
    "        \n",
    "            df_nn = df_dists.sort_values(by=['dist'], axis=0)\n",
    "            df_knn =  df_nn[:self.k]\n",
    "            \n",
    "            row = self.set_probs(self.Y_train[df_knn.index].value_counts(),\n",
    "                                 columns)\n",
    "            class_probs.loc[i] = row\n",
    "        \n",
    "        return class_probs\n",
    "            \n",
    "\n",
    "    def create_probs(self, X_test):\n",
    "        ''' \n",
    "        Create a new dataframe that holds all of the values for the \n",
    "        number of instances per column\n",
    "        ''' \n",
    "        class_columns = []\n",
    "        classes = self.Y_train.value_counts()\n",
    "        \n",
    "        for index, value in classes.items():\n",
    "            class_columns.append(index)\n",
    "            class_probs = pd.DataFrame(columns=class_columns)\n",
    "            \n",
    "        return class_probs, class_columns\n",
    "    \n",
    "\n",
    "    def set_probs(self, classifications, columns):\n",
    "        ''' Set the probabilities for each classification in the row ''' \n",
    "        row = [0]*len(columns)\n",
    "        \n",
    "        for classification, count in classifications.items():\n",
    "            \n",
    "            for column in columns:\n",
    "                index = columns.index(classification)\n",
    "                row[index] = count / self.k\n",
    "                \n",
    "        return row\n",
    "    "
   ]
  },
  {
   "cell_type": "markdown",
   "metadata": {},
   "source": [
    "#### K Experiment Method <a class=\"anchor\" id=\"3\"></a>"
   ]
  },
  {
   "cell_type": "code",
   "execution_count": 18,
   "metadata": {},
   "outputs": [],
   "source": [
    "\n",
    "def k_experiment(csv_file_name, normalise=False):\n",
    "    ''' \n",
    "    Runs the experiment on the datatset in the named file\n",
    "    for a range of k values\n",
    "    '''\n",
    "    data = pd.read_csv(csv_file_name)\n",
    "    data.head()\n",
    "    Y = data['class']\n",
    "    X = data.drop(['class'],axis=1)\n",
    "\n",
    "    X_train, X_test, Y_train, Y_test = train_test_split(X, Y, test_size=0.34, random_state=10)\n",
    "\n",
    "    # range for the values of parameter k for kNN\n",
    "    k_range = [1, 3, 5, 7, 9, 11, 13, 15, 17, 19, 21, 23, 25, 27, 29, 31]\n",
    "\n",
    "    trainAcc = np.zeros(len(k_range))\n",
    "    testAcc = np.zeros(len(k_range))\n",
    "\n",
    "    index = 0 \n",
    "    for k  in  k_range:\n",
    "        clf = kNN(k, normalise=normalise)\n",
    "        clf.fit(X_train, Y_train)\n",
    "        Y_predTrain = clf.getDiscreteClassification(X_train)\n",
    "        Y_predTest = clf.getDiscreteClassification(X_test)\n",
    "        trainAcc[index] = accuracy_score(Y_train, Y_predTrain)\n",
    "        testAcc[index] = accuracy_score(Y_test, Y_predTest)\n",
    "        index += 1\n",
    "\n",
    "    plt.plot(k_range,trainAcc,'ro-',k_range,testAcc,'bv--')\n",
    "    plt.legend(['Training Accuracy','Test Accuracy'])\n",
    "    plt.xlabel('k')\n",
    "    plt.ylabel('Accuracy')\n",
    "    \n",
    "    if normalise:\n",
    "        title = csv_file_name + ' normalised'\n",
    "    else:\n",
    "        title = csv_file_name + ' un-modified'\n",
    "    plt.title(title)\n",
    "    "
   ]
  },
  {
   "cell_type": "markdown",
   "metadata": {},
   "source": [
    "#### Exp Experiment Method <a class=\"anchor\" id=\"4\"></a>"
   ]
  },
  {
   "cell_type": "code",
   "execution_count": 19,
   "metadata": {},
   "outputs": [],
   "source": [
    "def exp_experiment(csv_file_name, normalise=False):\n",
    "    ''' \n",
    "    Runs the experiment on the datatset in the named file for \n",
    "    a range of exp values\n",
    "    '''\n",
    "\n",
    "    data = pd.read_csv(csv_file_name)\n",
    "    data.head()\n",
    "    Y = data['class']\n",
    "    X = data.drop(['class'],axis=1)\n",
    "\n",
    "    X_train, X_test, Y_train, Y_test = train_test_split(X, Y, test_size=0.34, random_state=10)\n",
    "\n",
    "    exp_range = [2,  100, 10000]\n",
    "\n",
    "    trainAcc = np.zeros(len(exp_range))\n",
    "    testAcc = np.zeros(len(exp_range))\n",
    "\n",
    "    index = 0 \n",
    "    for exp  in  exp_range:\n",
    "        clf = kNN(k=3, exp=exp, normalise=normalise)\n",
    "        clf.fit(X_train, Y_train)\n",
    "        Y_predTrain = clf.getDiscreteClassification(X_train)\n",
    "        Y_predTest = clf.getDiscreteClassification(X_test)\n",
    "        trainAcc[index] = accuracy_score(Y_train, Y_predTrain)\n",
    "        testAcc[index] = accuracy_score(Y_test, Y_predTest)\n",
    "        index += 1\n",
    "\n",
    "    plt.plot(exp_range,trainAcc,'ro-',exp_range,testAcc,'bv--')\n",
    "    plt.legend(['Training Accuracy','Test Accuracy'])\n",
    "    plt.xscale('log')\n",
    "    plt.xlabel('exp')\n",
    "    plt.ylabel('Accuracy')\n",
    "    \n",
    "    if normalise:\n",
    "        title = csv_file_name + ' normalised'\n",
    "    else:\n",
    "        title = csv_file_name + ' un-modified'\n",
    "    plt.title(title)\n"
   ]
  },
  {
   "cell_type": "markdown",
   "metadata": {},
   "source": [
    "## Part B <a class=\"anchor\" id=\"5\"></a>\n",
    "\n",
    "Test  the  `kNN`  classifier  on  the  diabetis  and  glass  classification  data  sets  (see Appendix A) for the case when the data is not normalized and the case when the data is normalized. Indicate whether the training and  hold-out accuracy rates improve with normalization.  \n",
    "\n",
    "For  testing  the  `kNN`  classifier  you  might  use  the  script  provided  in  the  Jupiter notebook.  The  script  provides  a  plot  with  training  and  hold-out  accuracy  rates  in function of parameter $k$ of the `kNN` classifier. \n",
    "\n",
    "Test the `kNN` classifier on the glass classification data sets the data is normalized for different  values  of  the  `exp`  parameter  of  the  Minkowski  distance.  Indicate  whether the training and  hold-out accuracy rates changes due to `exp`. For this task you might use the second testing script provided in the Jupiter note."
   ]
  },
  {
   "cell_type": "code",
   "execution_count": 29,
   "metadata": {},
   "outputs": [],
   "source": [
    "#################################\n",
    "# Test that this shit still works\n",
    "#################################\n",
    "\n",
    "data = pd.read_csv('glass.csv')\n",
    "data.head()\n",
    "Y = data['class']\n",
    "X = data.drop(['class'],axis=1)\n",
    "\n",
    "X_train, X_test, Y_train, Y_test = train_test_split(X, Y, test_size=0.34, random_state=10)\n",
    "\n",
    "clf = kNN(k=3, normalise=True)\n",
    "clf.fit(X_train, Y_train)"
   ]
  },
  {
   "cell_type": "code",
   "execution_count": 20,
   "metadata": {},
   "outputs": [
    {
     "data": {
      "image/png": "[encoded data removed]",
      "text/plain": [
       "<Figure size 432x288 with 1 Axes>"
      ]
     },
     "metadata": {
      "needs_background": "light"
     },
     "output_type": "display_data"
    }
   ],
   "source": [
    "k_experiment('glass.csv', normalise=False)"
   ]
  },
  {
   "cell_type": "code",
   "execution_count": 23,
   "metadata": {},
   "outputs": [
    {
     "data": {
      "image/png": "[encoded data removed]",
      "text/plain": [
       "<Figure size 432x288 with 1 Axes>"
      ]
     },
     "metadata": {
      "needs_background": "light"
     },
     "output_type": "display_data"
    }
   ],
   "source": [
    "k_experiment('glass.csv', normalise=True)"
   ]
  },
  {
   "cell_type": "code",
   "execution_count": 9,
   "metadata": {},
   "outputs": [
    {
     "name": "stderr",
     "output_type": "stream",
     "text": [
      "/home/leon/anaconda3/lib/python3.7/site-packages/ipykernel_launcher.py:74: RuntimeWarning: overflow encountered in double_scalars\n"
     ]
    },
    {
     "data": {
      "image/png": "[encoded data removed]",
      "text/plain": [
       "<Figure size 432x288 with 1 Axes>"
      ]
     },
     "metadata": {
      "needs_background": "light"
     },
     "output_type": "display_data"
    }
   ],
   "source": [
    "exp_experiment('glass.csv', normalise=False)"
   ]
  },
  {
   "cell_type": "code",
   "execution_count": 10,
   "metadata": {},
   "outputs": [
    {
     "name": "stderr",
     "output_type": "stream",
     "text": [
      "/home/leon/anaconda3/lib/python3.7/site-packages/ipykernel_launcher.py:74: RuntimeWarning: overflow encountered in double_scalars\n",
      "/home/leon/anaconda3/lib/python3.7/site-packages/ipykernel_launcher.py:74: RuntimeWarning: overflow encountered in double_scalars\n"
     ]
    },
    {
     "data": {
      "image/png": "[encoded data removed]",
      "text/plain": [
       "<Figure size 432x288 with 1 Axes>"
      ]
     },
     "metadata": {
      "needs_background": "light"
     },
     "output_type": "display_data"
    }
   ],
   "source": [
    "exp_experiment('glass.csv', normalise=True)"
   ]
  },
  {
   "cell_type": "code",
   "execution_count": null,
   "metadata": {},
   "outputs": [],
   "source": [
    "k_experiment('diabetes.csv', normalise=False)"
   ]
  },
  {
   "cell_type": "code",
   "execution_count": null,
   "metadata": {},
   "outputs": [],
   "source": [
    "k_experiment('diabetes.csv', normalise=True)"
   ]
  },
  {
   "cell_type": "code",
   "execution_count": null,
   "metadata": {},
   "outputs": [],
   "source": [
    "exp_experiment('diabetes.csv', normalise=False)"
   ]
  },
  {
   "cell_type": "code",
   "execution_count": null,
   "metadata": {},
   "outputs": [],
   "source": [
    "exp_experiment('diabetes.csv', normalise=True)"
   ]
  },
  {
   "cell_type": "markdown",
   "metadata": {},
   "source": [
    "## Part C <a class=\"anchor\" id=\"6\"></a>\n",
    "\n",
    "Add to class `kNN` method `get_class_probs` that computes for all the test instances in `X_test` the posterior class probabilities. This means that the method computes for each row (instance) in `X_test` a row with probability of class 1, probability of class 2, and probability of class $n$. Combine the rows of the posterior class probabilities in `pandas.DataFrame` object that will be the output of the method `get_class_probs`."
   ]
  },
  {
   "cell_type": "code",
   "execution_count": 24,
   "metadata": {},
   "outputs": [
    {
     "data": {
      "text/html": [
       "<div>\n",
       "<style scoped>\n",
       "    .dataframe tbody tr th:only-of-type {\n",
       "        vertical-align: middle;\n",
       "    }\n",
       "\n",
       "    .dataframe tbody tr th {\n",
       "        vertical-align: top;\n",
       "    }\n",
       "\n",
       "    .dataframe thead th {\n",
       "        text-align: right;\n",
       "    }\n",
       "</style>\n",
       "<table border=\"1\" class=\"dataframe\">\n",
       "  <thead>\n",
       "    <tr style=\"text-align: right;\">\n",
       "      <th></th>\n",
       "      <th>'build wind non-float'</th>\n",
       "      <th>'build wind float'</th>\n",
       "      <th>headlamps</th>\n",
       "      <th>'vehic wind float'</th>\n",
       "      <th>containers</th>\n",
       "      <th>tableware</th>\n",
       "    </tr>\n",
       "  </thead>\n",
       "  <tbody>\n",
       "    <tr>\n",
       "      <th>0</th>\n",
       "      <td>0.000000</td>\n",
       "      <td>0.666667</td>\n",
       "      <td>0.000000</td>\n",
       "      <td>0.333333</td>\n",
       "      <td>0.000000</td>\n",
       "      <td>0.000000</td>\n",
       "    </tr>\n",
       "    <tr>\n",
       "      <th>1</th>\n",
       "      <td>0.000000</td>\n",
       "      <td>1.000000</td>\n",
       "      <td>0.000000</td>\n",
       "      <td>0.000000</td>\n",
       "      <td>0.000000</td>\n",
       "      <td>0.000000</td>\n",
       "    </tr>\n",
       "    <tr>\n",
       "      <th>2</th>\n",
       "      <td>0.000000</td>\n",
       "      <td>0.000000</td>\n",
       "      <td>0.666667</td>\n",
       "      <td>0.000000</td>\n",
       "      <td>0.333333</td>\n",
       "      <td>0.000000</td>\n",
       "    </tr>\n",
       "    <tr>\n",
       "      <th>3</th>\n",
       "      <td>0.666667</td>\n",
       "      <td>0.333333</td>\n",
       "      <td>0.000000</td>\n",
       "      <td>0.000000</td>\n",
       "      <td>0.000000</td>\n",
       "      <td>0.000000</td>\n",
       "    </tr>\n",
       "    <tr>\n",
       "      <th>4</th>\n",
       "      <td>0.000000</td>\n",
       "      <td>1.000000</td>\n",
       "      <td>0.000000</td>\n",
       "      <td>0.000000</td>\n",
       "      <td>0.000000</td>\n",
       "      <td>0.000000</td>\n",
       "    </tr>\n",
       "    <tr>\n",
       "      <th>...</th>\n",
       "      <td>...</td>\n",
       "      <td>...</td>\n",
       "      <td>...</td>\n",
       "      <td>...</td>\n",
       "      <td>...</td>\n",
       "      <td>...</td>\n",
       "    </tr>\n",
       "    <tr>\n",
       "      <th>68</th>\n",
       "      <td>0.000000</td>\n",
       "      <td>0.333333</td>\n",
       "      <td>0.000000</td>\n",
       "      <td>0.666667</td>\n",
       "      <td>0.000000</td>\n",
       "      <td>0.000000</td>\n",
       "    </tr>\n",
       "    <tr>\n",
       "      <th>69</th>\n",
       "      <td>0.333333</td>\n",
       "      <td>0.000000</td>\n",
       "      <td>0.333333</td>\n",
       "      <td>0.333333</td>\n",
       "      <td>0.000000</td>\n",
       "      <td>0.000000</td>\n",
       "    </tr>\n",
       "    <tr>\n",
       "      <th>70</th>\n",
       "      <td>0.333333</td>\n",
       "      <td>0.000000</td>\n",
       "      <td>0.333333</td>\n",
       "      <td>0.000000</td>\n",
       "      <td>0.000000</td>\n",
       "      <td>0.333333</td>\n",
       "    </tr>\n",
       "    <tr>\n",
       "      <th>71</th>\n",
       "      <td>1.000000</td>\n",
       "      <td>0.000000</td>\n",
       "      <td>0.000000</td>\n",
       "      <td>0.000000</td>\n",
       "      <td>0.000000</td>\n",
       "      <td>0.000000</td>\n",
       "    </tr>\n",
       "    <tr>\n",
       "      <th>72</th>\n",
       "      <td>0.666667</td>\n",
       "      <td>0.333333</td>\n",
       "      <td>0.000000</td>\n",
       "      <td>0.000000</td>\n",
       "      <td>0.000000</td>\n",
       "      <td>0.000000</td>\n",
       "    </tr>\n",
       "  </tbody>\n",
       "</table>\n",
       "<p>73 rows × 6 columns</p>\n",
       "</div>"
      ],
      "text/plain": [
       "    'build wind non-float'  'build wind float'  headlamps  'vehic wind float'  \\\n",
       "0                 0.000000            0.666667   0.000000            0.333333   \n",
       "1                 0.000000            1.000000   0.000000            0.000000   \n",
       "2                 0.000000            0.000000   0.666667            0.000000   \n",
       "3                 0.666667            0.333333   0.000000            0.000000   \n",
       "4                 0.000000            1.000000   0.000000            0.000000   \n",
       "..                     ...                 ...        ...                 ...   \n",
       "68                0.000000            0.333333   0.000000            0.666667   \n",
       "69                0.333333            0.000000   0.333333            0.333333   \n",
       "70                0.333333            0.000000   0.333333            0.000000   \n",
       "71                1.000000            0.000000   0.000000            0.000000   \n",
       "72                0.666667            0.333333   0.000000            0.000000   \n",
       "\n",
       "    containers  tableware  \n",
       "0     0.000000   0.000000  \n",
       "1     0.000000   0.000000  \n",
       "2     0.333333   0.000000  \n",
       "3     0.000000   0.000000  \n",
       "4     0.000000   0.000000  \n",
       "..         ...        ...  \n",
       "68    0.000000   0.000000  \n",
       "69    0.000000   0.000000  \n",
       "70    0.000000   0.333333  \n",
       "71    0.000000   0.000000  \n",
       "72    0.000000   0.000000  \n",
       "\n",
       "[73 rows x 6 columns]"
      ]
     },
     "execution_count": 24,
     "metadata": {},
     "output_type": "execute_result"
    }
   ],
   "source": [
    "data = pd.read_csv('glass.csv')\n",
    "data.head()\n",
    "Y = data['class']\n",
    "X = data.drop(['class'],axis=1)\n",
    "\n",
    "X_train, X_test, Y_train, Y_test = train_test_split(X, Y, test_size=0.34, random_state=10)\n",
    "\n",
    "clf = kNN()\n",
    "clf.fit(X_train, Y_train)\n",
    "clf.get_class_probs(X_test)"
   ]
  },
  {
   "cell_type": "code",
   "execution_count": null,
   "metadata": {},
   "outputs": [],
   "source": []
  },
  {
   "cell_type": "code",
   "execution_count": null,
   "metadata": {},
   "outputs": [],
   "source": []
  }
 ],
 "metadata": {
  "kernelspec": {
   "display_name": "Python 3",
   "language": "python",
   "name": "python3"
  },
  "language_info": {
   "codemirror_mode": {
    "name": "ipython",
    "version": 3
   },
   "file_extension": ".py",
   "mimetype": "text/x-python",
   "name": "python",
   "nbconvert_exporter": "python",
   "pygments_lexer": "ipython3",
   "version": "3.7.6"
  }
 },
 "nbformat": 4,
 "nbformat_minor": 2
}
