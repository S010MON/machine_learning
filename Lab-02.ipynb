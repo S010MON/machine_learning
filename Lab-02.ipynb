{
 "cells": [
  {
   "cell_type": "markdown",
   "metadata": {},
   "source": [
    "# Lab 2: Nearest Neighbour\n",
    "6252320 Leon Debnath\n",
    "\n",
    "## Table of Contents:\n",
    "* [Imports](#1)\n",
    "* [kth-Nearest-Neighbour Classifier](#2)\n",
    "* [K Experiment Method](#3)\n",
    "* [Exp Experiment Method](#4)\n",
    "* [Part B](#5)\n",
    "* [Part C](#6)\n",
    "* [Part D](#7)\n"
   ]
  },
  {
   "cell_type": "markdown",
   "metadata": {},
   "source": [
    "#### Imports <a class=\"anchor\" id=\"1\"></a>"
   ]
  },
  {
   "cell_type": "code",
   "execution_count": 10,
   "metadata": {},
   "outputs": [],
   "source": [
    "import matplotlib.pyplot as plt\n",
    "\n",
    "import numpy as np\n",
    "from numpy.random import random\n",
    "\n",
    "import pandas as pd\n",
    "\n",
    "from sklearn.metrics import accuracy_score\n",
    "from sklearn.model_selection import train_test_split\n",
    "from sklearn.metrics import mean_absolute_error\n",
    "from sklearn import preprocessing"
   ]
  },
  {
   "cell_type": "markdown",
   "metadata": {},
   "source": [
    "#### $k$th Nearest Neighbour Classifier <a class=\"anchor\" id=\"2\"></a>"
   ]
  },
  {
   "cell_type": "code",
   "execution_count": 18,
   "metadata": {},
   "outputs": [],
   "source": [
    "\n",
    "class kNN():\n",
    "    \n",
    "    def __init__(self, k = 3, exp = 2, normalise=False):\n",
    "        \n",
    "        self.k = k\n",
    "        self.exp = exp\n",
    "        self.normalise = normalise\n",
    "      \n",
    "    \n",
    "    def fit(self, X_train, Y_train):\n",
    "    \n",
    "        if self.normalise:\n",
    "            self.X_train = normalise(X_train)\n",
    "        else:\n",
    "            self.X_train = X_train\n",
    "        self.Y_train = Y_train\n",
    "         \n",
    "\n",
    "    def get_discrete_classification(self, X_test):\n",
    "    \n",
    "        if self.normalise:\n",
    "            X_test = normalise(X_test)\n",
    "            \n",
    "        Y_pred_test = []\n",
    "\n",
    "        for i in range(len(X_test)):\n",
    "            # i-th test instance\n",
    "            test_instance = X_test.iloc[i]  \n",
    "            distances = []  \n",
    "          \n",
    "            # iterate over all instances in X_train\n",
    "            for j in range(len(self.X_train)):  \n",
    "                train_instance = self.X_train.iloc[j]\n",
    "                distance = self.Minkowski_distance(test_instance,\n",
    "                                                   train_instance)\n",
    "                distances.append(distance)\n",
    "        \n",
    "            # Store distances in a dataframe. The dataframe has the index of \n",
    "            # Y_train in order to keep the correspondence with the classes\n",
    "            # of the training instances \n",
    "            df_dists = pd.DataFrame(data=distances,\n",
    "                                    columns=['dist'],\n",
    "                                    index=self.Y_train.index)\n",
    "        \n",
    "            # Sort distances, and only consider the k closest points in the\n",
    "            # new dataframe df_knn\n",
    "            df_nn = df_dists.sort_values(by=['dist'], axis=0)\n",
    "            df_knn =  df_nn[:self.k]\n",
    "            \n",
    "            # Note that the index df_knn.index of df_knn contains indices \n",
    "            # in Y_train of the k-closed training instances to the i-th test\n",
    "            # instance. Thus, the dataframe self.Y_train[df_knn.index] \n",
    "            # contains the classes of those k-closed training instances. \n",
    "            # Method value_counts() computes the counts (no. occurencies)\n",
    "            # for each class in self.Y_train[df_knn.index] in predictions. \n",
    "            predictions = self.Y_train[df_knn.index].value_counts()\n",
    "                 \n",
    "            # the first element of the index predictions.index contains the\n",
    "            # class with the highest count; i.e. the prediction y_pred_test.\n",
    "            y_pred_test = predictions.index[0]\n",
    "\n",
    "            # add the prediction y_pred_test to the prediction vector \n",
    "            # Y_pred_test for all the test instances in X_test\n",
    "            Y_pred_test.append(y_pred_test)\n",
    "        \n",
    "        return Y_pred_test\n",
    "\n",
    "    \n",
    "    def Minkowski_distance(self, x1, x2):\n",
    "        ''' \n",
    "        Computes the Minkowski distance of x1 and x2 for two \n",
    "        labeled instances (x1,y1) and (x2,y2) \n",
    "        '''\n",
    "        distance = 0\n",
    "    \n",
    "        # Calculate Minkowski distance using the exponent exp\n",
    "        for i in range(len(x1)):\n",
    "            distance = distance + abs(x1[i] - x2[i])**self.exp\n",
    "        \n",
    "        distance = distance**(1/self.exp)\n",
    "        return distance\n",
    "    \n",
    "    \n",
    "    #########\n",
    "    # PART B\n",
    "    #########\n",
    "    def normalise(X) -> pd.DataFrame:\n",
    "        ''' \n",
    "        NB:  this has been put INSIDE the class becuase that is what is \n",
    "        specified in the lab spec. I believe his would probably provide\n",
    "        more accurate results if the entire dataset was normalised outside\n",
    "        of the class and then split into a train/test split. \n",
    "        '''\n",
    "        scaler = StandardScaler()\n",
    "        X_scaled = scaler.fit_transform(X)\n",
    "        \n",
    "    \n",
    "    #########\n",
    "    # PART C\n",
    "    #########\n",
    "    def get_class_probs(self, X_test) -> pd.DataFrame:\n",
    "        \n",
    "        class_probs, columns = self.create_probs(X_test)\n",
    "        \n",
    "        for i in range(len(X_test)):\n",
    "            test_instance = X_test.iloc[i]\n",
    "            distances = []\n",
    "    \n",
    "            for j in range(len(self.X_train)):\n",
    "                train_instance = self.X_train.iloc[j]\n",
    "                distance = self.Minkowski_distance(test_instance, \n",
    "                                                   train_instance)  \n",
    "                distances.append(distance)\n",
    "            \n",
    "            df_dists = pd.DataFrame(data=distances,\n",
    "                                    columns=['dist'],\n",
    "                                    index = self.Y_train.index)\n",
    "        \n",
    "            df_nn = df_dists.sort_values(by=['dist'], axis=0)\n",
    "            df_knn =  df_nn[:self.k]\n",
    "            \n",
    "            row = self.set_probs(self.Y_train[df_knn.index].value_counts(),\n",
    "                                 columns)\n",
    "            class_probs.loc[i] = row\n",
    "        \n",
    "        return class_probs\n",
    "            \n",
    "\n",
    "    def create_probs(self, X_test):\n",
    "        ''' \n",
    "        Create a new dataframe that holds all of the values for the \n",
    "        number of instances per column\n",
    "        ''' \n",
    "        class_columns = []\n",
    "        classes = self.Y_train.value_counts()\n",
    "        \n",
    "        for index, value in classes.items():\n",
    "            class_columns.append(index)\n",
    "            class_probs = pd.DataFrame(columns=class_columns)\n",
    "            \n",
    "        return class_probs, class_columns\n",
    "    \n",
    "\n",
    "    def set_probs(self, classifications, columns):\n",
    "        ''' Set the probabilities for each classification in the row ''' \n",
    "        row = [0]*len(columns)\n",
    "        \n",
    "        for classification, count in classifications.items():\n",
    "            \n",
    "            for column in columns:\n",
    "                index = columns.index(classification)\n",
    "                row[index] = count / self.k\n",
    "                \n",
    "        return row\n",
    "    \n",
    "    #########\n",
    "    # PART D\n",
    "    #########\n",
    "    def get_predictions(self, X) -> pd.DataFrame:\n",
    "        '''\n",
    "        For every row in the DataFrame, get the classification \n",
    "        probabilities and compute the regression cost for each element\n",
    "        ''' \n",
    "        predictions = pd.DataFrame(columns = ['Reg Price'])\n",
    "        class_probs = self.get_class_probs(X)\n",
    "        \n",
    "        for i in class_probs.index:               \n",
    "            row = class_probs.loc[i]\n",
    "            cost = self.compute_cost(row)\n",
    "            predictions.loc[i] = cost\n",
    "                \n",
    "        return predictions\n",
    "    \n",
    "    \n",
    "    def compute_cost(self, row):\n",
    "        '''\n",
    "        For element in the row, compute the regression cost as \n",
    "        the cost * the probability\n",
    "        ''' \n",
    "        regression_cost = 0\n",
    "        \n",
    "        for cost, probability in row.iteritems():\n",
    "            regression_cost += cost * probability\n",
    "            \n",
    "        return [regression_cost]\n"
   ]
  },
  {
   "cell_type": "markdown",
   "metadata": {},
   "source": [
    "#### K Experiment Method <a class=\"anchor\" id=\"3\"></a>"
   ]
  },
  {
   "cell_type": "code",
   "execution_count": 12,
   "metadata": {},
   "outputs": [],
   "source": [
    "def k_experiment(csv_file_name, normalise=False):\n",
    "    ''' \n",
    "    Runs the experiment on the datatset in the named file\n",
    "    for a range of k values\n",
    "    '''\n",
    "    data = pd.read_csv(csv_file_name)\n",
    "    data.head()\n",
    "    Y = data['class']\n",
    "    X = data.drop(['class'],axis=1)\n",
    "\n",
    "    X_train, X_test, Y_train, Y_test = train_test_split(X, Y, test_size=0.34, random_state=10)\n",
    "\n",
    "    k_range = [1, 3, 5, 7, 9, 11, 13, 15, 17, 19, 21, 23, 25, 27, 29, 31]\n",
    "\n",
    "    trainAcc = np.zeros(len(k_range))\n",
    "    testAcc = np.zeros(len(k_range))\n",
    "\n",
    "\n",
    "    index = 0 \n",
    "    for k  in  k_range:\n",
    "        clf = kNN(k, normalise=normalise)\n",
    "        clf.fit(X_train, Y_train)\n",
    "        Y_predTrain = clf.get_discrete_classification(X_train)\n",
    "        Y_predTest = clf.get_discrete_classification(X_test)\n",
    "        trainAcc[index] = accuracy_score(Y_train, Y_predTrain)\n",
    "        testAcc[index] = accuracy_score(Y_test, Y_predTest)\n",
    "        index += 1\n",
    "\n",
    "    plt.plot(k_range,trainAcc,'ro-',k_range,testAcc,'bv--')\n",
    "    plt.legend(['Training Accuracy','Test Accuracy'])\n",
    "    plt.xlabel('k')\n",
    "    plt.ylabel('Accuracy')\n",
    "    \n",
    "    if normalise:\n",
    "        title = csv_file_name + ' normalised'\n",
    "    else:\n",
    "        title = csv_file_name + ' un-modified'\n",
    "    plt.title(title)"
   ]
  },
  {
   "cell_type": "markdown",
   "metadata": {},
   "source": [
    "#### Exp Experiment Method <a class=\"anchor\" id=\"4\"></a>"
   ]
  },
  {
   "cell_type": "code",
   "execution_count": 24,
   "metadata": {},
   "outputs": [],
   "source": [
    "def exp_experiment(csv_file_name, normalise=False):\n",
    "    ''' \n",
    "    Runs the experiment on the datatset in the named file for \n",
    "    a range of exp values\n",
    "    '''\n",
    "    \n",
    "    print('Starting exp experiment')\n",
    "    \n",
    "    data = pd.read_csv(csv_file_name)\n",
    "    data.head()\n",
    "    Y = data['class']\n",
    "    X = data.drop(['class'],axis=1)\n",
    "\n",
    "    X_train, X_test, Y_train, Y_test = train_test_split(X, Y, test_size=0.34, random_state=10)\n",
    "\n",
    "    exp_range = [2,  100, 10000] \n",
    "\n",
    "    trainAcc = np.zeros(len(exp_range))\n",
    "    testAcc = np.zeros(len(exp_range))\n",
    "\n",
    "    index = 0 \n",
    "    for exp  in  exp_range:\n",
    "        clf = kNN(k = 3, exp = exp, normalise=normalise)\n",
    "        clf.fit(X_train, Y_train)\n",
    "        Y_predTrain = clf.get_discrete_classification(X_train)\n",
    "        Y_predTest = clf.get_discrete_classification(X_test)\n",
    "        trainAcc[index] = accuracy_score(Y_train, Y_predTrain)\n",
    "        testAcc[index] = accuracy_score(Y_test, Y_predTest)\n",
    "        index += 1\n",
    "        print('exp {exp} for iteration {index}')\n",
    "\n",
    "    plt.plot(exp_range,trainAcc,'ro-',exp_range,testAcc,'bv--')\n",
    "    plt.legend(['Training Accuracy','Test Accuracy'])\n",
    "    plt.xscale('log')\n",
    "    plt.xlabel('exp')\n",
    "    plt.ylabel('Accuracy')\n",
    "\n",
    "    if normalise:\n",
    "        title = csv_file_name + ' normalised'\n",
    "    else:\n",
    "        title = csv_file_name + ' un-modified'\n",
    "    plt.title(title)\n"
   ]
  },
  {
   "cell_type": "markdown",
   "metadata": {},
   "source": [
    "## Part B <a class=\"anchor\" id=\"5\"></a>\n",
    "\n",
    "Test  the  `kNN`  classifier  on  the  diabetis  and  glass  classification  data  sets  (see Appendix A) for the case when the data is not normalized and the case when the data is normalized. Indicate whether the training and  hold-out accuracy rates improve with normalization.  \n",
    "\n",
    "For  testing  the  `kNN`  classifier  you  might  use  the  script  provided  in  the  Jupiter notebook.  The  script  provides  a  plot  with  training  and  hold-out  accuracy  rates  in function of parameter $k$ of the `kNN` classifier. \n",
    "\n",
    "Test the `kNN` classifier on the glass classification data sets the data is normalized for different  values  of  the  `exp`  parameter  of  the  Minkowski  distance.  Indicate  whether the training and  hold-out accuracy rates changes due to `exp`. For this task you might use the second testing script provided in the Jupiter note."
   ]
  },
  {
   "cell_type": "code",
   "execution_count": 10,
   "metadata": {},
   "outputs": [
    {
     "data": {
      "image/png": "[encoded data removed]",
      "text/plain": [
       "<Figure size 432x288 with 1 Axes>"
      ]
     },
     "metadata": {
      "needs_background": "light"
     },
     "output_type": "display_data"
    }
   ],
   "source": [
    "k_experiment('glass.csv', normalise=False)"
   ]
  },
  {
   "cell_type": "code",
   "execution_count": 197,
   "metadata": {},
   "outputs": [
    {
     "data": {
      "image/png": "[encoded data removed]",
      "text/plain": [
       "<Figure size 432x288 with 1 Axes>"
      ]
     },
     "metadata": {
      "needs_background": "light"
     },
     "output_type": "display_data"
    }
   ],
   "source": [
    "k_experiment('glass.csv', normalise=True)"
   ]
  },
  {
   "cell_type": "markdown",
   "metadata": {},
   "source": [
    "We can see that the normalised data performs far better than the un-normalised data for the Glass dataset.  With higher values for K (between 20 - 25) providing almost the same training and test accuracy and a higher average value (above 0.6) for the normalised data compared to a below 0.5 average for the standard dataset."
   ]
  },
  {
   "cell_type": "code",
   "execution_count": 198,
   "metadata": {},
   "outputs": [
    {
     "name": "stderr",
     "output_type": "stream",
     "text": [
      "/home/leon/anaconda3/lib/python3.7/site-packages/ipykernel_launcher.py:71: RuntimeWarning: overflow encountered in double_scalars\n"
     ]
    },
    {
     "data": {
      "image/png": "[encoded data removed]",
      "text/plain": [
       "<Figure size 432x288 with 1 Axes>"
      ]
     },
     "metadata": {
      "needs_background": "light"
     },
     "output_type": "display_data"
    }
   ],
   "source": [
    "exp_experiment('glass.csv', normalise=False)"
   ]
  },
  {
   "cell_type": "code",
   "execution_count": 199,
   "metadata": {},
   "outputs": [
    {
     "name": "stderr",
     "output_type": "stream",
     "text": [
      "/home/leon/anaconda3/lib/python3.7/site-packages/ipykernel_launcher.py:71: RuntimeWarning: overflow encountered in double_scalars\n"
     ]
    },
    {
     "data": {
      "image/png": "[encoded data removed]",
      "text/plain": [
       "<Figure size 432x288 with 1 Axes>"
      ]
     },
     "metadata": {
      "needs_background": "light"
     },
     "output_type": "display_data"
    }
   ],
   "source": [
    "exp_experiment('glass.csv', normalise=True)"
   ]
  },
  {
   "cell_type": "markdown",
   "metadata": {},
   "source": [
    "The exp experiment for the Glass dataset provides similar results with a higher accuracy rate for the normalised dataset."
   ]
  },
  {
   "cell_type": "code",
   "execution_count": null,
   "metadata": {},
   "outputs": [],
   "source": [
    "k_experiment('diabetes.csv', normalise=False)"
   ]
  },
  {
   "cell_type": "code",
   "execution_count": 28,
   "metadata": {},
   "outputs": [
    {
     "ename": "KeyboardInterrupt",
     "evalue": "",
     "output_type": "error",
     "traceback": [
      "\u001b[0;31m---------------------------------------------------------------------------\u001b[0m",
      "\u001b[0;31mKeyboardInterrupt\u001b[0m                         Traceback (most recent call last)",
      "\u001b[0;32m<ipython-input-28-1cb2f8133093>\u001b[0m in \u001b[0;36m<module>\u001b[0;34m\u001b[0m\n\u001b[1;32m     16\u001b[0m     \u001b[0mclf\u001b[0m\u001b[0;34m.\u001b[0m\u001b[0mfit\u001b[0m\u001b[0;34m(\u001b[0m\u001b[0mX_train\u001b[0m\u001b[0;34m,\u001b[0m \u001b[0mY_train\u001b[0m\u001b[0;34m)\u001b[0m\u001b[0;34m\u001b[0m\u001b[0;34m\u001b[0m\u001b[0m\n\u001b[1;32m     17\u001b[0m     \u001b[0mY_predTrain\u001b[0m \u001b[0;34m=\u001b[0m \u001b[0mclf\u001b[0m\u001b[0;34m.\u001b[0m\u001b[0mget_discrete_classification\u001b[0m\u001b[0;34m(\u001b[0m\u001b[0mX_train\u001b[0m\u001b[0;34m)\u001b[0m\u001b[0;34m\u001b[0m\u001b[0;34m\u001b[0m\u001b[0m\n\u001b[0;32m---> 18\u001b[0;31m     \u001b[0mY_predTest\u001b[0m \u001b[0;34m=\u001b[0m \u001b[0mclf\u001b[0m\u001b[0;34m.\u001b[0m\u001b[0mget_discrete_classification\u001b[0m\u001b[0;34m(\u001b[0m\u001b[0mX_test\u001b[0m\u001b[0;34m)\u001b[0m\u001b[0;34m\u001b[0m\u001b[0;34m\u001b[0m\u001b[0m\n\u001b[0m\u001b[1;32m     19\u001b[0m     \u001b[0mtrainAcc\u001b[0m\u001b[0;34m[\u001b[0m\u001b[0mindex\u001b[0m\u001b[0;34m]\u001b[0m \u001b[0;34m=\u001b[0m \u001b[0maccuracy_score\u001b[0m\u001b[0;34m(\u001b[0m\u001b[0mY_train\u001b[0m\u001b[0;34m,\u001b[0m \u001b[0mY_predTrain\u001b[0m\u001b[0;34m)\u001b[0m\u001b[0;34m\u001b[0m\u001b[0;34m\u001b[0m\u001b[0m\n\u001b[1;32m     20\u001b[0m     \u001b[0mtestAcc\u001b[0m\u001b[0;34m[\u001b[0m\u001b[0mindex\u001b[0m\u001b[0;34m]\u001b[0m \u001b[0;34m=\u001b[0m \u001b[0maccuracy_score\u001b[0m\u001b[0;34m(\u001b[0m\u001b[0mY_test\u001b[0m\u001b[0;34m,\u001b[0m \u001b[0mY_predTest\u001b[0m\u001b[0;34m)\u001b[0m\u001b[0;34m\u001b[0m\u001b[0;34m\u001b[0m\u001b[0m\n",
      "\u001b[0;32m<ipython-input-18-6cce3be54571>\u001b[0m in \u001b[0;36mget_discrete_classification\u001b[0;34m(self, X_test)\u001b[0m\n\u001b[1;32m     31\u001b[0m             \u001b[0;31m# iterate over all instances in X_train\u001b[0m\u001b[0;34m\u001b[0m\u001b[0;34m\u001b[0m\u001b[0;34m\u001b[0m\u001b[0m\n\u001b[1;32m     32\u001b[0m             \u001b[0;32mfor\u001b[0m \u001b[0mj\u001b[0m \u001b[0;32min\u001b[0m \u001b[0mrange\u001b[0m\u001b[0;34m(\u001b[0m\u001b[0mlen\u001b[0m\u001b[0;34m(\u001b[0m\u001b[0mself\u001b[0m\u001b[0;34m.\u001b[0m\u001b[0mX_train\u001b[0m\u001b[0;34m)\u001b[0m\u001b[0;34m)\u001b[0m\u001b[0;34m:\u001b[0m\u001b[0;34m\u001b[0m\u001b[0;34m\u001b[0m\u001b[0m\n\u001b[0;32m---> 33\u001b[0;31m                 \u001b[0mtrain_instance\u001b[0m \u001b[0;34m=\u001b[0m \u001b[0mself\u001b[0m\u001b[0;34m.\u001b[0m\u001b[0mX_train\u001b[0m\u001b[0;34m.\u001b[0m\u001b[0miloc\u001b[0m\u001b[0;34m[\u001b[0m\u001b[0mj\u001b[0m\u001b[0;34m]\u001b[0m\u001b[0;34m\u001b[0m\u001b[0;34m\u001b[0m\u001b[0m\n\u001b[0m\u001b[1;32m     34\u001b[0m                 distance = self.Minkowski_distance(test_instance,\n\u001b[1;32m     35\u001b[0m                                                    train_instance)\n",
      "\u001b[0;32m~/anaconda3/lib/python3.7/site-packages/pandas/core/indexing.py\u001b[0m in \u001b[0;36m__getitem__\u001b[0;34m(self, key)\u001b[0m\n\u001b[1;32m   1765\u001b[0m \u001b[0;34m\u001b[0m\u001b[0m\n\u001b[1;32m   1766\u001b[0m             \u001b[0mmaybe_callable\u001b[0m \u001b[0;34m=\u001b[0m \u001b[0mcom\u001b[0m\u001b[0;34m.\u001b[0m\u001b[0mapply_if_callable\u001b[0m\u001b[0;34m(\u001b[0m\u001b[0mkey\u001b[0m\u001b[0;34m,\u001b[0m \u001b[0mself\u001b[0m\u001b[0;34m.\u001b[0m\u001b[0mobj\u001b[0m\u001b[0;34m)\u001b[0m\u001b[0;34m\u001b[0m\u001b[0;34m\u001b[0m\u001b[0m\n\u001b[0;32m-> 1767\u001b[0;31m             \u001b[0;32mreturn\u001b[0m \u001b[0mself\u001b[0m\u001b[0;34m.\u001b[0m\u001b[0m_getitem_axis\u001b[0m\u001b[0;34m(\u001b[0m\u001b[0mmaybe_callable\u001b[0m\u001b[0;34m,\u001b[0m \u001b[0maxis\u001b[0m\u001b[0;34m=\u001b[0m\u001b[0maxis\u001b[0m\u001b[0;34m)\u001b[0m\u001b[0;34m\u001b[0m\u001b[0;34m\u001b[0m\u001b[0m\n\u001b[0m\u001b[1;32m   1768\u001b[0m \u001b[0;34m\u001b[0m\u001b[0m\n\u001b[1;32m   1769\u001b[0m     \u001b[0;32mdef\u001b[0m \u001b[0m_is_scalar_access\u001b[0m\u001b[0;34m(\u001b[0m\u001b[0mself\u001b[0m\u001b[0;34m,\u001b[0m \u001b[0mkey\u001b[0m\u001b[0;34m:\u001b[0m \u001b[0mTuple\u001b[0m\u001b[0;34m)\u001b[0m\u001b[0;34m:\u001b[0m\u001b[0;34m\u001b[0m\u001b[0;34m\u001b[0m\u001b[0m\n",
      "\u001b[0;32m~/anaconda3/lib/python3.7/site-packages/pandas/core/indexing.py\u001b[0m in \u001b[0;36m_getitem_axis\u001b[0;34m(self, key, axis)\u001b[0m\n\u001b[1;32m   2137\u001b[0m             \u001b[0mself\u001b[0m\u001b[0;34m.\u001b[0m\u001b[0m_validate_integer\u001b[0m\u001b[0;34m(\u001b[0m\u001b[0mkey\u001b[0m\u001b[0;34m,\u001b[0m \u001b[0maxis\u001b[0m\u001b[0;34m)\u001b[0m\u001b[0;34m\u001b[0m\u001b[0;34m\u001b[0m\u001b[0m\n\u001b[1;32m   2138\u001b[0m \u001b[0;34m\u001b[0m\u001b[0m\n\u001b[0;32m-> 2139\u001b[0;31m             \u001b[0;32mreturn\u001b[0m \u001b[0mself\u001b[0m\u001b[0;34m.\u001b[0m\u001b[0m_get_loc\u001b[0m\u001b[0;34m(\u001b[0m\u001b[0mkey\u001b[0m\u001b[0;34m,\u001b[0m \u001b[0maxis\u001b[0m\u001b[0;34m=\u001b[0m\u001b[0maxis\u001b[0m\u001b[0;34m)\u001b[0m\u001b[0;34m\u001b[0m\u001b[0;34m\u001b[0m\u001b[0m\n\u001b[0m\u001b[1;32m   2140\u001b[0m \u001b[0;34m\u001b[0m\u001b[0m\n\u001b[1;32m   2141\u001b[0m     \u001b[0;31m# raise_missing is included for compat with the parent class signature\u001b[0m\u001b[0;34m\u001b[0m\u001b[0;34m\u001b[0m\u001b[0;34m\u001b[0m\u001b[0m\n",
      "\u001b[0;32m~/anaconda3/lib/python3.7/site-packages/pandas/core/indexing.py\u001b[0m in \u001b[0;36m_get_loc\u001b[0;34m(self, key, axis)\u001b[0m\n\u001b[1;32m    625\u001b[0m \u001b[0;34m\u001b[0m\u001b[0m\n\u001b[1;32m    626\u001b[0m     \u001b[0;32mdef\u001b[0m \u001b[0m_get_loc\u001b[0m\u001b[0;34m(\u001b[0m\u001b[0mself\u001b[0m\u001b[0;34m,\u001b[0m \u001b[0mkey\u001b[0m\u001b[0;34m:\u001b[0m \u001b[0mint\u001b[0m\u001b[0;34m,\u001b[0m \u001b[0maxis\u001b[0m\u001b[0;34m:\u001b[0m \u001b[0mint\u001b[0m\u001b[0;34m)\u001b[0m\u001b[0;34m:\u001b[0m\u001b[0;34m\u001b[0m\u001b[0;34m\u001b[0m\u001b[0m\n\u001b[0;32m--> 627\u001b[0;31m         \u001b[0;32mreturn\u001b[0m \u001b[0mself\u001b[0m\u001b[0;34m.\u001b[0m\u001b[0mobj\u001b[0m\u001b[0;34m.\u001b[0m\u001b[0m_ixs\u001b[0m\u001b[0;34m(\u001b[0m\u001b[0mkey\u001b[0m\u001b[0;34m,\u001b[0m \u001b[0maxis\u001b[0m\u001b[0;34m=\u001b[0m\u001b[0maxis\u001b[0m\u001b[0;34m)\u001b[0m\u001b[0;34m\u001b[0m\u001b[0;34m\u001b[0m\u001b[0m\n\u001b[0m\u001b[1;32m    628\u001b[0m \u001b[0;34m\u001b[0m\u001b[0m\n\u001b[1;32m    629\u001b[0m     \u001b[0;32mdef\u001b[0m \u001b[0m_slice\u001b[0m\u001b[0;34m(\u001b[0m\u001b[0mself\u001b[0m\u001b[0;34m,\u001b[0m \u001b[0mobj\u001b[0m\u001b[0;34m,\u001b[0m \u001b[0maxis\u001b[0m\u001b[0;34m:\u001b[0m \u001b[0mint\u001b[0m\u001b[0;34m,\u001b[0m \u001b[0mkind\u001b[0m\u001b[0;34m=\u001b[0m\u001b[0;32mNone\u001b[0m\u001b[0;34m)\u001b[0m\u001b[0;34m:\u001b[0m\u001b[0;34m\u001b[0m\u001b[0;34m\u001b[0m\u001b[0m\n",
      "\u001b[0;32m~/anaconda3/lib/python3.7/site-packages/pandas/core/frame.py\u001b[0m in \u001b[0;36m_ixs\u001b[0;34m(self, i, axis)\u001b[0m\n\u001b[1;32m   2741\u001b[0m                 \u001b[0mindex\u001b[0m\u001b[0;34m=\u001b[0m\u001b[0mself\u001b[0m\u001b[0;34m.\u001b[0m\u001b[0mcolumns\u001b[0m\u001b[0;34m,\u001b[0m\u001b[0;34m\u001b[0m\u001b[0;34m\u001b[0m\u001b[0m\n\u001b[1;32m   2742\u001b[0m                 \u001b[0mname\u001b[0m\u001b[0;34m=\u001b[0m\u001b[0mself\u001b[0m\u001b[0;34m.\u001b[0m\u001b[0mindex\u001b[0m\u001b[0;34m[\u001b[0m\u001b[0mi\u001b[0m\u001b[0;34m]\u001b[0m\u001b[0;34m,\u001b[0m\u001b[0;34m\u001b[0m\u001b[0;34m\u001b[0m\u001b[0m\n\u001b[0;32m-> 2743\u001b[0;31m                 \u001b[0mdtype\u001b[0m\u001b[0;34m=\u001b[0m\u001b[0mnew_values\u001b[0m\u001b[0;34m.\u001b[0m\u001b[0mdtype\u001b[0m\u001b[0;34m,\u001b[0m\u001b[0;34m\u001b[0m\u001b[0;34m\u001b[0m\u001b[0m\n\u001b[0m\u001b[1;32m   2744\u001b[0m             )\n\u001b[1;32m   2745\u001b[0m             \u001b[0mresult\u001b[0m\u001b[0;34m.\u001b[0m\u001b[0m_set_is_copy\u001b[0m\u001b[0;34m(\u001b[0m\u001b[0mself\u001b[0m\u001b[0;34m,\u001b[0m \u001b[0mcopy\u001b[0m\u001b[0;34m=\u001b[0m\u001b[0mcopy\u001b[0m\u001b[0;34m)\u001b[0m\u001b[0;34m\u001b[0m\u001b[0;34m\u001b[0m\u001b[0m\n",
      "\u001b[0;32m~/anaconda3/lib/python3.7/site-packages/pandas/core/series.py\u001b[0m in \u001b[0;36m__init__\u001b[0;34m(self, data, index, dtype, name, copy, fastpath)\u001b[0m\n\u001b[1;32m    307\u001b[0m                 \u001b[0mdata\u001b[0m \u001b[0;34m=\u001b[0m \u001b[0mSingleBlockManager\u001b[0m\u001b[0;34m(\u001b[0m\u001b[0mdata\u001b[0m\u001b[0;34m,\u001b[0m \u001b[0mindex\u001b[0m\u001b[0;34m,\u001b[0m \u001b[0mfastpath\u001b[0m\u001b[0;34m=\u001b[0m\u001b[0;32mTrue\u001b[0m\u001b[0;34m)\u001b[0m\u001b[0;34m\u001b[0m\u001b[0;34m\u001b[0m\u001b[0m\n\u001b[1;32m    308\u001b[0m \u001b[0;34m\u001b[0m\u001b[0m\n\u001b[0;32m--> 309\u001b[0;31m         \u001b[0mgeneric\u001b[0m\u001b[0;34m.\u001b[0m\u001b[0mNDFrame\u001b[0m\u001b[0;34m.\u001b[0m\u001b[0m__init__\u001b[0m\u001b[0;34m(\u001b[0m\u001b[0mself\u001b[0m\u001b[0;34m,\u001b[0m \u001b[0mdata\u001b[0m\u001b[0;34m,\u001b[0m \u001b[0mfastpath\u001b[0m\u001b[0;34m=\u001b[0m\u001b[0;32mTrue\u001b[0m\u001b[0;34m)\u001b[0m\u001b[0;34m\u001b[0m\u001b[0;34m\u001b[0m\u001b[0m\n\u001b[0m\u001b[1;32m    310\u001b[0m         \u001b[0mself\u001b[0m\u001b[0;34m.\u001b[0m\u001b[0mname\u001b[0m \u001b[0;34m=\u001b[0m \u001b[0mname\u001b[0m\u001b[0;34m\u001b[0m\u001b[0;34m\u001b[0m\u001b[0m\n\u001b[1;32m    311\u001b[0m         \u001b[0mself\u001b[0m\u001b[0;34m.\u001b[0m\u001b[0m_set_axis\u001b[0m\u001b[0;34m(\u001b[0m\u001b[0;36m0\u001b[0m\u001b[0;34m,\u001b[0m \u001b[0mindex\u001b[0m\u001b[0;34m,\u001b[0m \u001b[0mfastpath\u001b[0m\u001b[0;34m=\u001b[0m\u001b[0;32mTrue\u001b[0m\u001b[0;34m)\u001b[0m\u001b[0;34m\u001b[0m\u001b[0;34m\u001b[0m\u001b[0m\n",
      "\u001b[0;31mKeyboardInterrupt\u001b[0m: "
     ]
    }
   ],
   "source": [
    "data = pd.read_csv('diabetes.csv')\n",
    "data.head()\n",
    "Y = data['class']\n",
    "X = data.drop(['class'],axis=1)\n",
    "\n",
    "X_train, X_test, Y_train, Y_test = train_test_split(X, Y, test_size=0.34, random_state=10)\n",
    "\n",
    "exp_range = [2,  100, 10000] \n",
    "\n",
    "trainAcc = np.zeros(len(exp_range))\n",
    "testAcc = np.zeros(len(exp_range))\n",
    "\n",
    "index = 0 \n",
    "for exp  in  exp_range:\n",
    "    clf = kNN(k = 3, exp = exp, normalise=False)\n",
    "    clf.fit(X_train, Y_train)\n",
    "    Y_predTrain = clf.get_discrete_classification(X_train)\n",
    "    Y_predTest = clf.get_discrete_classification(X_test)\n",
    "    trainAcc[index] = accuracy_score(Y_train, Y_predTrain)\n",
    "    testAcc[index] = accuracy_score(Y_test, Y_predTest)\n",
    "    index += 1\n",
    "    print('exp {exp} for iteration {index}')\n",
    "\n",
    "plt.plot(exp_range,trainAcc,'ro-',exp_range,testAcc,'bv--')\n",
    "plt.legend(['Training Accuracy','Test Accuracy'])\n",
    "plt.xscale('log')\n",
    "plt.xlabel('exp')\n",
    "plt.ylabel('Accuracy')"
   ]
  },
  {
   "cell_type": "code",
   "execution_count": 19,
   "metadata": {},
   "outputs": [
    {
     "ename": "NameError",
     "evalue": "name 'normalise' is not defined",
     "output_type": "error",
     "traceback": [
      "\u001b[0;31m---------------------------------------------------------------------------\u001b[0m",
      "\u001b[0;31mNameError\u001b[0m                                 Traceback (most recent call last)",
      "\u001b[0;32m<ipython-input-19-a1a7eb41ecf2>\u001b[0m in \u001b[0;36m<module>\u001b[0;34m\u001b[0m\n\u001b[0;32m----> 1\u001b[0;31m \u001b[0mk_experiment\u001b[0m\u001b[0;34m(\u001b[0m\u001b[0;34m'diabetes.csv'\u001b[0m\u001b[0;34m,\u001b[0m \u001b[0mnormalise\u001b[0m\u001b[0;34m=\u001b[0m\u001b[0;32mTrue\u001b[0m\u001b[0;34m)\u001b[0m\u001b[0;34m\u001b[0m\u001b[0;34m\u001b[0m\u001b[0m\n\u001b[0m",
      "\u001b[0;32m<ipython-input-12-20d569ef0f78>\u001b[0m in \u001b[0;36mk_experiment\u001b[0;34m(csv_file_name, normalise)\u001b[0m\n\u001b[1;32m     20\u001b[0m     \u001b[0;32mfor\u001b[0m \u001b[0mk\u001b[0m  \u001b[0;32min\u001b[0m  \u001b[0mk_range\u001b[0m\u001b[0;34m:\u001b[0m\u001b[0;34m\u001b[0m\u001b[0;34m\u001b[0m\u001b[0m\n\u001b[1;32m     21\u001b[0m         \u001b[0mclf\u001b[0m \u001b[0;34m=\u001b[0m \u001b[0mkNN\u001b[0m\u001b[0;34m(\u001b[0m\u001b[0mk\u001b[0m\u001b[0;34m,\u001b[0m \u001b[0mnormalise\u001b[0m\u001b[0;34m=\u001b[0m\u001b[0mnormalise\u001b[0m\u001b[0;34m)\u001b[0m\u001b[0;34m\u001b[0m\u001b[0;34m\u001b[0m\u001b[0m\n\u001b[0;32m---> 22\u001b[0;31m         \u001b[0mclf\u001b[0m\u001b[0;34m.\u001b[0m\u001b[0mfit\u001b[0m\u001b[0;34m(\u001b[0m\u001b[0mX_train\u001b[0m\u001b[0;34m,\u001b[0m \u001b[0mY_train\u001b[0m\u001b[0;34m)\u001b[0m\u001b[0;34m\u001b[0m\u001b[0;34m\u001b[0m\u001b[0m\n\u001b[0m\u001b[1;32m     23\u001b[0m         \u001b[0mY_predTrain\u001b[0m \u001b[0;34m=\u001b[0m \u001b[0mclf\u001b[0m\u001b[0;34m.\u001b[0m\u001b[0mget_discrete_classification\u001b[0m\u001b[0;34m(\u001b[0m\u001b[0mX_train\u001b[0m\u001b[0;34m)\u001b[0m\u001b[0;34m\u001b[0m\u001b[0;34m\u001b[0m\u001b[0m\n\u001b[1;32m     24\u001b[0m         \u001b[0mY_predTest\u001b[0m \u001b[0;34m=\u001b[0m \u001b[0mclf\u001b[0m\u001b[0;34m.\u001b[0m\u001b[0mget_discrete_classification\u001b[0m\u001b[0;34m(\u001b[0m\u001b[0mX_test\u001b[0m\u001b[0;34m)\u001b[0m\u001b[0;34m\u001b[0m\u001b[0;34m\u001b[0m\u001b[0m\n",
      "\u001b[0;32m<ipython-input-18-6cce3be54571>\u001b[0m in \u001b[0;36mfit\u001b[0;34m(self, X_train, Y_train)\u001b[0m\n\u001b[1;32m     11\u001b[0m \u001b[0;34m\u001b[0m\u001b[0m\n\u001b[1;32m     12\u001b[0m         \u001b[0;32mif\u001b[0m \u001b[0mself\u001b[0m\u001b[0;34m.\u001b[0m\u001b[0mnormalise\u001b[0m\u001b[0;34m:\u001b[0m\u001b[0;34m\u001b[0m\u001b[0;34m\u001b[0m\u001b[0m\n\u001b[0;32m---> 13\u001b[0;31m             \u001b[0mself\u001b[0m\u001b[0;34m.\u001b[0m\u001b[0mX_train\u001b[0m \u001b[0;34m=\u001b[0m \u001b[0mnormalise\u001b[0m\u001b[0;34m(\u001b[0m\u001b[0mX_train\u001b[0m\u001b[0;34m)\u001b[0m\u001b[0;34m\u001b[0m\u001b[0;34m\u001b[0m\u001b[0m\n\u001b[0m\u001b[1;32m     14\u001b[0m         \u001b[0;32melse\u001b[0m\u001b[0;34m:\u001b[0m\u001b[0;34m\u001b[0m\u001b[0;34m\u001b[0m\u001b[0m\n\u001b[1;32m     15\u001b[0m             \u001b[0mself\u001b[0m\u001b[0;34m.\u001b[0m\u001b[0mX_train\u001b[0m \u001b[0;34m=\u001b[0m \u001b[0mX_train\u001b[0m\u001b[0;34m\u001b[0m\u001b[0;34m\u001b[0m\u001b[0m\n",
      "\u001b[0;31mNameError\u001b[0m: name 'normalise' is not defined"
     ]
    }
   ],
   "source": [
    "k_experiment('diabetes.csv', normalise=True)"
   ]
  },
  {
   "cell_type": "markdown",
   "metadata": {},
   "source": [
    "We can see that the normalised data performs far better than the un-normalised data for the Glass dataset.  With higher values for K (between 20 - 25) providing almost the same training and test accuracy and a higher average value (above 0.6) for the normalised data compared to a below 0.5 average for the standard dataset."
   ]
  },
  {
   "cell_type": "code",
   "execution_count": 3,
   "metadata": {},
   "outputs": [
    {
     "ename": "NameError",
     "evalue": "name 'exp_experiment' is not defined",
     "output_type": "error",
     "traceback": [
      "\u001b[0;31m---------------------------------------------------------------------------\u001b[0m",
      "\u001b[0;31mNameError\u001b[0m                                 Traceback (most recent call last)",
      "\u001b[0;32m<ipython-input-3-d6f4ff00f37f>\u001b[0m in \u001b[0;36m<module>\u001b[0;34m\u001b[0m\n\u001b[0;32m----> 1\u001b[0;31m \u001b[0mexp_experiment\u001b[0m\u001b[0;34m(\u001b[0m\u001b[0;34m'diabetes.csv'\u001b[0m\u001b[0;34m,\u001b[0m \u001b[0mnormalise\u001b[0m\u001b[0;34m=\u001b[0m\u001b[0;32mFalse\u001b[0m\u001b[0;34m)\u001b[0m\u001b[0;34m\u001b[0m\u001b[0;34m\u001b[0m\u001b[0m\n\u001b[0m",
      "\u001b[0;31mNameError\u001b[0m: name 'exp_experiment' is not defined"
     ]
    }
   ],
   "source": [
    "exp_experiment('diabetes.csv', normalise=False)"
   ]
  },
  {
   "cell_type": "code",
   "execution_count": 4,
   "metadata": {},
   "outputs": [
    {
     "ename": "NameError",
     "evalue": "name 'exp_experiment' is not defined",
     "output_type": "error",
     "traceback": [
      "\u001b[0;31m---------------------------------------------------------------------------\u001b[0m",
      "\u001b[0;31mNameError\u001b[0m                                 Traceback (most recent call last)",
      "\u001b[0;32m<ipython-input-4-3eb7359e721c>\u001b[0m in \u001b[0;36m<module>\u001b[0;34m\u001b[0m\n\u001b[0;32m----> 1\u001b[0;31m \u001b[0mexp_experiment\u001b[0m\u001b[0;34m(\u001b[0m\u001b[0;34m'diabetes.csv'\u001b[0m\u001b[0;34m,\u001b[0m \u001b[0mnormalise\u001b[0m\u001b[0;34m=\u001b[0m\u001b[0;32mTrue\u001b[0m\u001b[0;34m)\u001b[0m\u001b[0;34m\u001b[0m\u001b[0;34m\u001b[0m\u001b[0m\n\u001b[0m",
      "\u001b[0;31mNameError\u001b[0m: name 'exp_experiment' is not defined"
     ]
    }
   ],
   "source": [
    "exp_experiment('diabetes.csv', normalise=True)"
   ]
  },
  {
   "cell_type": "markdown",
   "metadata": {},
   "source": [
    "***** MORE ANALYSIS HERE"
   ]
  },
  {
   "cell_type": "markdown",
   "metadata": {},
   "source": [
    "## Part C <a class=\"anchor\" id=\"6\"></a>\n",
    "\n",
    "Add to class `kNN` method `get_class_probs` that computes for all the test instances in `X_test` the posterior class probabilities. This means that the method computes for each row (instance) in `X_test` a row with probability of class 1, probability of class 2, and probability of class $n$. Combine the rows of the posterior class probabilities in `pandas.DataFrame` object that will be the output of the method `get_class_probs`."
   ]
  },
  {
   "cell_type": "code",
   "execution_count": 202,
   "metadata": {},
   "outputs": [
    {
     "data": {
      "text/html": [
       "<div>\n",
       "<style scoped>\n",
       "    .dataframe tbody tr th:only-of-type {\n",
       "        vertical-align: middle;\n",
       "    }\n",
       "\n",
       "    .dataframe tbody tr th {\n",
       "        vertical-align: top;\n",
       "    }\n",
       "\n",
       "    .dataframe thead th {\n",
       "        text-align: right;\n",
       "    }\n",
       "</style>\n",
       "<table border=\"1\" class=\"dataframe\">\n",
       "  <thead>\n",
       "    <tr style=\"text-align: right;\">\n",
       "      <th></th>\n",
       "      <th>'build wind non-float'</th>\n",
       "      <th>'build wind float'</th>\n",
       "      <th>headlamps</th>\n",
       "      <th>'vehic wind float'</th>\n",
       "      <th>containers</th>\n",
       "      <th>tableware</th>\n",
       "    </tr>\n",
       "  </thead>\n",
       "  <tbody>\n",
       "    <tr>\n",
       "      <th>0</th>\n",
       "      <td>0.000000</td>\n",
       "      <td>0.666667</td>\n",
       "      <td>0.000000</td>\n",
       "      <td>0.333333</td>\n",
       "      <td>0.000000</td>\n",
       "      <td>0.000000</td>\n",
       "    </tr>\n",
       "    <tr>\n",
       "      <th>1</th>\n",
       "      <td>0.000000</td>\n",
       "      <td>1.000000</td>\n",
       "      <td>0.000000</td>\n",
       "      <td>0.000000</td>\n",
       "      <td>0.000000</td>\n",
       "      <td>0.000000</td>\n",
       "    </tr>\n",
       "    <tr>\n",
       "      <th>2</th>\n",
       "      <td>0.000000</td>\n",
       "      <td>0.000000</td>\n",
       "      <td>0.666667</td>\n",
       "      <td>0.000000</td>\n",
       "      <td>0.333333</td>\n",
       "      <td>0.000000</td>\n",
       "    </tr>\n",
       "    <tr>\n",
       "      <th>3</th>\n",
       "      <td>0.666667</td>\n",
       "      <td>0.333333</td>\n",
       "      <td>0.000000</td>\n",
       "      <td>0.000000</td>\n",
       "      <td>0.000000</td>\n",
       "      <td>0.000000</td>\n",
       "    </tr>\n",
       "    <tr>\n",
       "      <th>4</th>\n",
       "      <td>0.000000</td>\n",
       "      <td>1.000000</td>\n",
       "      <td>0.000000</td>\n",
       "      <td>0.000000</td>\n",
       "      <td>0.000000</td>\n",
       "      <td>0.000000</td>\n",
       "    </tr>\n",
       "    <tr>\n",
       "      <th>...</th>\n",
       "      <td>...</td>\n",
       "      <td>...</td>\n",
       "      <td>...</td>\n",
       "      <td>...</td>\n",
       "      <td>...</td>\n",
       "      <td>...</td>\n",
       "    </tr>\n",
       "    <tr>\n",
       "      <th>68</th>\n",
       "      <td>0.000000</td>\n",
       "      <td>0.333333</td>\n",
       "      <td>0.000000</td>\n",
       "      <td>0.666667</td>\n",
       "      <td>0.000000</td>\n",
       "      <td>0.000000</td>\n",
       "    </tr>\n",
       "    <tr>\n",
       "      <th>69</th>\n",
       "      <td>0.333333</td>\n",
       "      <td>0.000000</td>\n",
       "      <td>0.333333</td>\n",
       "      <td>0.333333</td>\n",
       "      <td>0.000000</td>\n",
       "      <td>0.000000</td>\n",
       "    </tr>\n",
       "    <tr>\n",
       "      <th>70</th>\n",
       "      <td>0.333333</td>\n",
       "      <td>0.000000</td>\n",
       "      <td>0.333333</td>\n",
       "      <td>0.000000</td>\n",
       "      <td>0.000000</td>\n",
       "      <td>0.333333</td>\n",
       "    </tr>\n",
       "    <tr>\n",
       "      <th>71</th>\n",
       "      <td>1.000000</td>\n",
       "      <td>0.000000</td>\n",
       "      <td>0.000000</td>\n",
       "      <td>0.000000</td>\n",
       "      <td>0.000000</td>\n",
       "      <td>0.000000</td>\n",
       "    </tr>\n",
       "    <tr>\n",
       "      <th>72</th>\n",
       "      <td>0.666667</td>\n",
       "      <td>0.333333</td>\n",
       "      <td>0.000000</td>\n",
       "      <td>0.000000</td>\n",
       "      <td>0.000000</td>\n",
       "      <td>0.000000</td>\n",
       "    </tr>\n",
       "  </tbody>\n",
       "</table>\n",
       "<p>73 rows × 6 columns</p>\n",
       "</div>"
      ],
      "text/plain": [
       "    'build wind non-float'  'build wind float'  headlamps  'vehic wind float'  \\\n",
       "0                 0.000000            0.666667   0.000000            0.333333   \n",
       "1                 0.000000            1.000000   0.000000            0.000000   \n",
       "2                 0.000000            0.000000   0.666667            0.000000   \n",
       "3                 0.666667            0.333333   0.000000            0.000000   \n",
       "4                 0.000000            1.000000   0.000000            0.000000   \n",
       "..                     ...                 ...        ...                 ...   \n",
       "68                0.000000            0.333333   0.000000            0.666667   \n",
       "69                0.333333            0.000000   0.333333            0.333333   \n",
       "70                0.333333            0.000000   0.333333            0.000000   \n",
       "71                1.000000            0.000000   0.000000            0.000000   \n",
       "72                0.666667            0.333333   0.000000            0.000000   \n",
       "\n",
       "    containers  tableware  \n",
       "0     0.000000   0.000000  \n",
       "1     0.000000   0.000000  \n",
       "2     0.333333   0.000000  \n",
       "3     0.000000   0.000000  \n",
       "4     0.000000   0.000000  \n",
       "..         ...        ...  \n",
       "68    0.000000   0.000000  \n",
       "69    0.000000   0.000000  \n",
       "70    0.000000   0.333333  \n",
       "71    0.000000   0.000000  \n",
       "72    0.000000   0.000000  \n",
       "\n",
       "[73 rows x 6 columns]"
      ]
     },
     "execution_count": 202,
     "metadata": {},
     "output_type": "execute_result"
    }
   ],
   "source": [
    "data = pd.read_csv('glass.csv')\n",
    "data.head()\n",
    "Y = data['class']\n",
    "X = data.drop(['class'],axis=1)\n",
    "\n",
    "X_train, X_test, Y_train, Y_test = train_test_split(X, Y, test_size=0.34, random_state=10)\n",
    "\n",
    "clf = kNN()\n",
    "clf.fit(X_train, Y_train)\n",
    "clf.get_class_probs(X_test)\n"
   ]
  },
  {
   "cell_type": "markdown",
   "metadata": {},
   "source": [
    "## Part D <a class=\"anchor\" id=\"7\"></a>\n",
    "\n",
    "Add to class kNN method `get_prediction` that computes for all the test instances in  `X_test`  regression  values  for  the  output  attribute.  This  means  that  the  method computes for each instance (row) in `X_test` a regression value equal to the average of  y  values  in  `Y_train`  of  the  $k$-nearest  neighbors  of  the  instance  in  `X_train`. Combine  the  computed  regression  values  for  all  the  instances  in  `X_test`  in `pandas.DataFrame` object that will be the output of the method `get_prediction`. \n",
    "\n",
    "Test the method `get_prediction` on the autoprice data set which is a regression data set (see Appendix A). For that purpose you can adapt the test script that you have already  used  for  Task  B.  Please  use  mean  absolute  error  as  the  main  metric  for estimating regression performance instead of the accuracy rate. To compute the mean absolute error you can use method `mean_absolute_error`  from `sklearn.metrics`."
   ]
  },
  {
   "cell_type": "code",
   "execution_count": 221,
   "metadata": {},
   "outputs": [],
   "source": [
    "def regression(csv_file_name):\n",
    "\n",
    "    data = pd.read_csv(csv_file_name)\n",
    "    data.head()\n",
    "    Y = data['class']\n",
    "    X = data.drop(['class'],axis=1)\n",
    "\n",
    "    X_train, X_test, Y_train, Y_test = train_test_split(X, Y, test_size=0.34, random_state=10)\n",
    "\n",
    "    k_range = [1, 3, 5, 7, 9, 11, 13, 15, 17, 19, 21, 23, 25, 27, 29, 31]\n",
    "\n",
    "    trainAcc = np.zeros(len(k_range))\n",
    "    testAcc = np.zeros(len(k_range))\n",
    "\n",
    "    index = 0 \n",
    "    for k  in  k_range:\n",
    "        clf = kNN(k)\n",
    "        clf.fit(X_train, Y_train)\n",
    "        Y_predTrain = clf.get_predictions(X_train)\n",
    "        Y_predTest = clf.get_predictions(X_test)\n",
    "        trainAcc[index] = mean_absolute_error(Y_train, Y_predTrain)\n",
    "        testAcc[index] = mean_absolute_error(Y_test, Y_predTest)\n",
    "        index += 1\n",
    "\n",
    "    plt.plot(k_range,trainAcc,'ro-',k_range,testAcc,'bv--')\n",
    "    plt.legend(['Training Accuracy','Test Accuracy'])\n",
    "    plt.xlabel('k')\n",
    "    plt.ylabel('Accuracy')"
   ]
  },
  {
   "cell_type": "code",
   "execution_count": 222,
   "metadata": {},
   "outputs": [
    {
     "data": {
      "image/png": "[encoded data removed]",
      "text/plain": [
       "<Figure size 432x288 with 1 Axes>"
      ]
     },
     "metadata": {
      "needs_background": "light"
     },
     "output_type": "display_data"
    }
   ],
   "source": [
    "regression('autoprice.csv')"
   ]
  },
  {
   "cell_type": "code",
   "execution_count": null,
   "metadata": {},
   "outputs": [],
   "source": []
  }
 ],
 "metadata": {
  "kernelspec": {
   "display_name": "Python 3",
   "language": "python",
   "name": "python3"
  },
  "language_info": {
   "codemirror_mode": {
    "name": "ipython",
    "version": 3
   },
   "file_extension": ".py",
   "mimetype": "text/x-python",
   "name": "python",
   "nbconvert_exporter": "python",
   "pygments_lexer": "ipython3",
   "version": "3.7.6"
  }
 },
 "nbformat": 4,
 "nbformat_minor": 2
}
